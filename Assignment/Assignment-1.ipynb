{
 "cells": [
  {
   "cell_type": "markdown",
   "id": "b0630c78",
   "metadata": {},
   "source": [
    "#                                                  Assignment-1"
   ]
  },
  {
   "cell_type": "markdown",
   "id": "900a2e0f",
   "metadata": {},
   "source": [
    "# Question:-1) "
   ]
  },
  {
   "cell_type": "code",
   "execution_count": 10,
   "id": "f74d19eb",
   "metadata": {},
   "outputs": [],
   "source": [
    "mixed_variable=[\"Pankaj\",[1,2,3,\"Ram\",3.5],7.757,(10,100)]"
   ]
  },
  {
   "cell_type": "markdown",
   "id": "2349d685",
   "metadata": {},
   "source": [
    "# Question:-2) "
   ]
  },
  {
   "cell_type": "code",
   "execution_count": null,
   "id": "230b8784",
   "metadata": {},
   "outputs": [],
   "source": [
    "var1=''\n",
    "type(var1)"
   ]
  },
  {
   "cell_type": "code",
   "execution_count": null,
   "id": "8e90e545",
   "metadata": {},
   "outputs": [],
   "source": [
    "var2='[DS, ML,Python]'\n",
    "type(var2)"
   ]
  },
  {
   "cell_type": "code",
   "execution_count": null,
   "id": "f2685818",
   "metadata": {},
   "outputs": [],
   "source": [
    "var3=['DS','ML','Python']\n",
    "type(var3)"
   ]
  },
  {
   "cell_type": "code",
   "execution_count": null,
   "id": "270a140f",
   "metadata": {},
   "outputs": [],
   "source": [
    "var4=1.\n",
    "type(var4)"
   ]
  },
  {
   "cell_type": "markdown",
   "id": "d3562238",
   "metadata": {},
   "source": [
    "# Question:-3)\n",
    "(i) / :- It is an Division Operator. It divides one number by another and returns the quotient as a floating-point number\n"
   ]
  },
  {
   "cell_type": "code",
   "execution_count": 2,
   "id": "d1fadfea",
   "metadata": {},
   "outputs": [
    {
     "name": "stdout",
     "output_type": "stream",
     "text": [
      "3.3333333333333335\n"
     ]
    }
   ],
   "source": [
    "D=10/3;\n",
    "print(D)"
   ]
  },
  {
   "cell_type": "markdown",
   "id": "3fc59b2c",
   "metadata": {},
   "source": [
    "3.(ii)- % This is an modulo operator.  It returns the remainder when one number is divided by another. "
   ]
  },
  {
   "cell_type": "code",
   "execution_count": 3,
   "id": "2a79ff65",
   "metadata": {},
   "outputs": [
    {
     "name": "stdout",
     "output_type": "stream",
     "text": [
      "1\n"
     ]
    }
   ],
   "source": [
    "M=10%3\n",
    "print(M)"
   ]
  },
  {
   "cell_type": "markdown",
   "id": "5248e634",
   "metadata": {},
   "source": [
    "3.(iii): // This is an floor division operator. t divides one number by another and returns the quotient rounded down to the nearest integer."
   ]
  },
  {
   "cell_type": "code",
   "execution_count": 4,
   "id": "b0a2153a",
   "metadata": {},
   "outputs": [
    {
     "name": "stdout",
     "output_type": "stream",
     "text": [
      "3\n"
     ]
    }
   ],
   "source": [
    "F=10//3;\n",
    "print(F)"
   ]
  },
  {
   "cell_type": "markdown",
   "id": "e66170c3",
   "metadata": {},
   "source": [
    "3.(iv):- ** = This is an exponentiation operator. It raises a number to the power of another number."
   ]
  },
  {
   "cell_type": "code",
   "execution_count": 5,
   "id": "73605da5",
   "metadata": {},
   "outputs": [
    {
     "name": "stdout",
     "output_type": "stream",
     "text": [
      "1000\n"
     ]
    }
   ],
   "source": [
    "E=10**3\n",
    "print(E)"
   ]
  },
  {
   "cell_type": "markdown",
   "id": "adf31624",
   "metadata": {},
   "source": [
    "# Question:-4"
   ]
  },
  {
   "cell_type": "code",
   "execution_count": 8,
   "id": "35e6d40e",
   "metadata": {},
   "outputs": [],
   "source": [
    "l1=[1,2,3,1.1,'pankaj',\"Ram\",True,False]"
   ]
  },
  {
   "cell_type": "code",
   "execution_count": 12,
   "id": "a743dd5e",
   "metadata": {},
   "outputs": [
    {
     "name": "stdout",
     "output_type": "stream",
     "text": [
      "1\n",
      "<class 'int'>\n",
      "2\n",
      "<class 'int'>\n",
      "3\n",
      "<class 'int'>\n",
      "1.1\n",
      "<class 'float'>\n",
      "pankaj\n",
      "<class 'str'>\n",
      "Ram\n",
      "<class 'str'>\n",
      "True\n",
      "<class 'bool'>\n",
      "False\n",
      "<class 'bool'>\n"
     ]
    }
   ],
   "source": [
    "for i in l1:\n",
    "    print(i)\n",
    "    print(type(i))"
   ]
  },
  {
   "cell_type": "markdown",
   "id": "a5ef91cd",
   "metadata": {},
   "source": [
    "# Question 5"
   ]
  },
  {
   "cell_type": "code",
   "execution_count": 15,
   "id": "b2704327",
   "metadata": {},
   "outputs": [
    {
     "name": "stdout",
     "output_type": "stream",
     "text": [
      "Enter number A: 10\n",
      "Enter number B: 2\n",
      "A is divisible by B for 5.0 times\n"
     ]
    }
   ],
   "source": [
    "a = int(input(\"Enter number A: \"))\n",
    "b = int(input(\"Enter number B: \"))\n",
    "\n",
    "while a % b == 0:\n",
    "    print(\"A is divisible by B for\", a/b, \"times\")\n",
    "    break\n",
    "else:\n",
    "    print(\"A is not divisible by B\")"
   ]
  },
  {
   "cell_type": "markdown",
   "id": "ceae6813",
   "metadata": {},
   "source": [
    "# Question 6"
   ]
  },
  {
   "cell_type": "code",
   "execution_count": 26,
   "id": "c20a536c",
   "metadata": {},
   "outputs": [
    {
     "name": "stdout",
     "output_type": "stream",
     "text": [
      "1 is not divisible by 3\n",
      "2 is not divisible by 3\n",
      "3 is divisible by 3\n",
      "4 is not divisible by 3\n",
      "5 is not divisible by 3\n",
      "6 is divisible by 3\n",
      "7 is not divisible by 3\n",
      "8 is not divisible by 3\n",
      "9 is divisible by 3\n",
      "10 is not divisible by 3\n",
      "11 is not divisible by 3\n",
      "12 is divisible by 3\n",
      "13 is not divisible by 3\n",
      "14 is not divisible by 3\n",
      "15 is divisible by 3\n",
      "16 is not divisible by 3\n",
      "17 is not divisible by 3\n",
      "18 is divisible by 3\n",
      "29 is not divisible by 3\n",
      "20 is not divisible by 3\n",
      "21 is divisible by 3\n",
      "22 is not divisible by 3\n",
      "23 is not divisible by 3\n",
      "24 is divisible by 3\n",
      "25 is not divisible by 3\n"
     ]
    }
   ],
   "source": [
    "L2=[1,2,3,4,5,6,7,8,9,10,11,12,13,14,15,16,17,18,29,20,21,22,23,24,25]\n",
    "for i in L2:\n",
    "    if(i%3==0):\n",
    "        print(i,\"is divisible by 3\")\n",
    "    else:\n",
    "        print(i,\"is not divisible by 3\")"
   ]
  },
  {
   "cell_type": "markdown",
   "id": "f4e1fe86",
   "metadata": {},
   "source": [
    "# Question 7"
   ]
  },
  {
   "cell_type": "markdown",
   "id": "95392b86",
   "metadata": {},
   "source": [
    "# Mutable \n",
    "   Mutable objects in programming refer to objects whose values can be modified or changed after they are created. This means that when you make changes to a mutable object, such as adding or removing elements, the object itself is modified in memory.\n",
    "   \n",
    "Some common examples of mutable objects in programming languages like Python include lists, dictionaries, and sets. For example, you can add or remove elements from a list, update values in a dictionary, or modify the content of a set.\n"
   ]
  },
  {
   "cell_type": "code",
   "execution_count": 28,
   "id": "e9fc057a",
   "metadata": {},
   "outputs": [
    {
     "data": {
      "text/plain": [
       "[1, 2, 3, 'Pankaj']"
      ]
     },
     "execution_count": 28,
     "metadata": {},
     "output_type": "execute_result"
    }
   ],
   "source": [
    "T4 = [1,2,3,\"Pankaj\"]\n",
    "T4"
   ]
  },
  {
   "cell_type": "code",
   "execution_count": 29,
   "id": "d654c855",
   "metadata": {},
   "outputs": [
    {
     "data": {
      "text/plain": [
       "[1, 2, 3, 'Pankaj Gangwar']"
      ]
     },
     "execution_count": 29,
     "metadata": {},
     "output_type": "execute_result"
    }
   ],
   "source": [
    "T4[3]=\"Pankaj Gangwar\"\n",
    "T4"
   ]
  },
  {
   "cell_type": "markdown",
   "id": "a5dbd1dc",
   "metadata": {},
   "source": [
    "# Immutable\n",
    "Immutable objects in programming refer to objects whose values cannot be modified or changed after they are created.This means that when you make changes to a Immutable object, such as adding or removing elements, the objectn shows an error.\n",
    "\n",
    "Some common examples of Immutable objects in programming languages like Python include tuple,in,float etc."
   ]
  },
  {
   "cell_type": "code",
   "execution_count": 30,
   "id": "690eafb8",
   "metadata": {},
   "outputs": [
    {
     "ename": "TypeError",
     "evalue": "'tuple' object does not support item assignment",
     "output_type": "error",
     "traceback": [
      "\u001b[1;31m---------------------------------------------------------------------------\u001b[0m",
      "\u001b[1;31mTypeError\u001b[0m                                 Traceback (most recent call last)",
      "Cell \u001b[1;32mIn [30], line 2\u001b[0m\n\u001b[0;32m      1\u001b[0m tuple1 \u001b[38;5;241m=\u001b[39m (\u001b[38;5;241m0\u001b[39m, \u001b[38;5;241m1\u001b[39m, \u001b[38;5;241m2\u001b[39m, \u001b[38;5;241m3\u001b[39m)\n\u001b[1;32m----> 2\u001b[0m tuple1[\u001b[38;5;241m0\u001b[39m] \u001b[38;5;241m=\u001b[39m \u001b[38;5;241m4\u001b[39m\n\u001b[0;32m      3\u001b[0m \u001b[38;5;28mprint\u001b[39m(tuple1)\n",
      "\u001b[1;31mTypeError\u001b[0m: 'tuple' object does not support item assignment"
     ]
    }
   ],
   "source": [
    "tuple1 = (0, 1, 2, 3)\n",
    "tuple1[0] = 4\n",
    "print(tuple1)"
   ]
  },
  {
   "cell_type": "code",
   "execution_count": null,
   "id": "9ab85aa4",
   "metadata": {},
   "outputs": [],
   "source": []
  }
 ],
 "metadata": {
  "kernelspec": {
   "display_name": "Python 3 (ipykernel)",
   "language": "python",
   "name": "python3"
  },
  "language_info": {
   "codemirror_mode": {
    "name": "ipython",
    "version": 3
   },
   "file_extension": ".py",
   "mimetype": "text/x-python",
   "name": "python",
   "nbconvert_exporter": "python",
   "pygments_lexer": "ipython3",
   "version": "3.10.7"
  }
 },
 "nbformat": 4,
 "nbformat_minor": 5
}
