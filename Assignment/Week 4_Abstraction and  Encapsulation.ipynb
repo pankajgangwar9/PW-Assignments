{
 "cells": [
  {
   "cell_type": "markdown",
   "id": "f2246e53",
   "metadata": {},
   "source": [
    "#  Q1.What is Abstraction in OOps? Explain with an example."
   ]
  },
  {
   "cell_type": "code",
   "execution_count": 1,
   "id": "38f65f0c",
   "metadata": {},
   "outputs": [],
   "source": [
    "# Abstraction in python is defined as a process of handling complexity by hiding unnecessary information from the user\n",
    "# The users only interact with the basic implementation of the function, but inner working is hidden\n"
   ]
  },
  {
   "cell_type": "code",
   "execution_count": 2,
   "id": "92f11f50",
   "metadata": {},
   "outputs": [],
   "source": [
    "import abc\n",
    "class pwskills:\n",
    "    \n",
    "    @abc.abstractmethod\n",
    "    def student_details(self):\n",
    "        pass\n",
    "    \n",
    "    @abc.abstractmethod\n",
    "    def student_assignment(self):\n",
    "        pass\n",
    "    \n",
    "    @abc.abstractmethod\n",
    "    def student_marks(self):\n",
    "        pass"
   ]
  },
  {
   "cell_type": "code",
   "execution_count": 3,
   "id": "c5d0785b",
   "metadata": {},
   "outputs": [],
   "source": [
    "class student_details(pwskills):\n",
    "    \n",
    "    def student_details(self):\n",
    "        return \"this is a method for taking student details\"\n",
    "    def student_assignment(self):\n",
    "        return \"this is method for assining details for particular student\""
   ]
  },
  {
   "cell_type": "code",
   "execution_count": 4,
   "id": "144d2da0",
   "metadata": {},
   "outputs": [
    {
     "data": {
      "text/plain": [
       "'this is method for assining details for particular student'"
      ]
     },
     "execution_count": 4,
     "metadata": {},
     "output_type": "execute_result"
    }
   ],
   "source": [
    "sd = student_details()\n",
    "sd.student_assignment()"
   ]
  },
  {
   "cell_type": "markdown",
   "id": "4c7cc260",
   "metadata": {},
   "source": [
    "# Q2. Differentiate between Abstraction and Encapsulation. Explain with an example."
   ]
  },
  {
   "cell_type": "code",
   "execution_count": 5,
   "id": "73a89e10",
   "metadata": {},
   "outputs": [],
   "source": [
    "#Abstraction is hiding the details and implementation of the code.\n",
    "#Encapsulation is hiding the data and controlling the visibility of the code.\n",
    "\n",
    "# Abstraction is concerned about what a class instance can do, instead of the implementation of the class.\n",
    "# Encapsulation helps in data binding and control over maintaining the transparency of the data."
   ]
  },
  {
   "cell_type": "code",
   "execution_count": 6,
   "id": "9a48ffd9",
   "metadata": {},
   "outputs": [],
   "source": [
    "# 1. Example of Abstraction\n",
    "import abc\n",
    "class pwskills:\n",
    "    \n",
    "    @abc.abstractmethod\n",
    "    def student_details(self):\n",
    "        pass\n",
    "    \n",
    "    @abc.abstractmethod\n",
    "    def student_assignment(self):\n",
    "        pass\n",
    "    \n",
    "    @abc.abstractmethod\n",
    "    def student_marks(self):\n",
    "        pass"
   ]
  },
  {
   "cell_type": "code",
   "execution_count": 7,
   "id": "4d6b8e0c",
   "metadata": {},
   "outputs": [],
   "source": [
    "class student_details(pwskills):\n",
    "    \n",
    "    def student_details(self):\n",
    "        return \"this is a method for taking student details\"\n",
    "    def student_assignment(self):\n",
    "        return \"this is method for assining details for particular student\""
   ]
  },
  {
   "cell_type": "code",
   "execution_count": 8,
   "id": "c1413e74",
   "metadata": {},
   "outputs": [
    {
     "data": {
      "text/plain": [
       "'this is method for assining details for particular student'"
      ]
     },
     "execution_count": 8,
     "metadata": {},
     "output_type": "execute_result"
    }
   ],
   "source": [
    "sd = student_details()\n",
    "sd.student_assignment()"
   ]
  },
  {
   "cell_type": "code",
   "execution_count": 9,
   "id": "a3bb4b1e",
   "metadata": {},
   "outputs": [],
   "source": [
    "# Example of Encapsulation\n",
    "\n",
    "class car:\n",
    "    def __init__(self,year,make,model,speed):\n",
    "        self.__year =year \n",
    "        self.__make = make\n",
    "        self.__model = model\n",
    "        self.__speed = 0\n",
    "        \n",
    "    def set__year(self,year):\n",
    "        self.__year= year        \n",
    "    def get__year(self):\n",
    "        return self.__year"
   ]
  },
  {
   "cell_type": "code",
   "execution_count": 10,
   "id": "229dd890",
   "metadata": {},
   "outputs": [],
   "source": [
    "c= car(2023, \"Toyata\", \"Innova\", 12)"
   ]
  },
  {
   "cell_type": "code",
   "execution_count": 11,
   "id": "4674cebf",
   "metadata": {},
   "outputs": [],
   "source": [
    "c.set__year(2021)"
   ]
  },
  {
   "cell_type": "code",
   "execution_count": 12,
   "id": "08addb87",
   "metadata": {},
   "outputs": [
    {
     "data": {
      "text/plain": [
       "2021"
      ]
     },
     "execution_count": 12,
     "metadata": {},
     "output_type": "execute_result"
    }
   ],
   "source": [
    "c.get__year()"
   ]
  },
  {
   "cell_type": "markdown",
   "id": "b021e422",
   "metadata": {},
   "source": [
    "# Q3. What is abc module in python? Why is it used"
   ]
  },
  {
   "cell_type": "code",
   "execution_count": 13,
   "id": "6b6f43e0",
   "metadata": {},
   "outputs": [],
   "source": [
    "# 'abc' stands for Abstract Base Class\n",
    "# The 'abc' module in Python library provides the infrastructure for defining custom abstract base classes.\n",
    "# 'abc' works by marking methods of the base class as abstract. This is done by @absttractmethod decorator"
   ]
  },
  {
   "cell_type": "markdown",
   "id": "99f415a5",
   "metadata": {},
   "source": [
    "# Q4. How can we achieve data abstraction?"
   ]
  },
  {
   "cell_type": "code",
   "execution_count": 14,
   "id": "c287d8ec",
   "metadata": {},
   "outputs": [],
   "source": [
    "# We can define an abstract method using @abstractmethod keyword on the top of a method.\n",
    "# We can use abc module of python to achieve data abstraction in python. \n",
    "#To define an abstract method in python we can import abstractmethod from the abc module of python"
   ]
  },
  {
   "cell_type": "code",
   "execution_count": 15,
   "id": "bad84b47",
   "metadata": {},
   "outputs": [],
   "source": [
    "import abc\n",
    "class pwskills:\n",
    "    \n",
    "    @abc.abstractmethod\n",
    "    def student_details(self):\n",
    "        pass\n",
    "    \n",
    "    @abc.abstractmethod\n",
    "    def student_assignment(self):\n",
    "        pass\n",
    "    \n",
    "    @abc.abstractmethod\n",
    "    def student_marks(self):\n",
    "        pass"
   ]
  },
  {
   "cell_type": "markdown",
   "id": "7ffe53eb",
   "metadata": {},
   "source": [
    "# Q5. Can we create an instance of an abstract class? Explain your answer"
   ]
  },
  {
   "cell_type": "code",
   "execution_count": 16,
   "id": "ce777330",
   "metadata": {},
   "outputs": [],
   "source": [
    "# No, we cannot create an instance of an abstract class\n",
    "# Reason\n",
    " # Abstract classes are not complete, as they may have some methods that are not defined\n",
    " # If we try to instantiate the abstract class, it raises an error."
   ]
  },
  {
   "cell_type": "code",
   "execution_count": null,
   "id": "f95d18e3",
   "metadata": {},
   "outputs": [],
   "source": []
  }
 ],
 "metadata": {
  "kernelspec": {
   "display_name": "Python 3 (ipykernel)",
   "language": "python",
   "name": "python3"
  },
  "language_info": {
   "codemirror_mode": {
    "name": "ipython",
    "version": 3
   },
   "file_extension": ".py",
   "mimetype": "text/x-python",
   "name": "python",
   "nbconvert_exporter": "python",
   "pygments_lexer": "ipython3",
   "version": "3.10.7"
  }
 },
 "nbformat": 4,
 "nbformat_minor": 5
}
