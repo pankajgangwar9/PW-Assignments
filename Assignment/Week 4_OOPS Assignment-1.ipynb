{
 "cells": [
  {
   "cell_type": "markdown",
   "id": "493b9221",
   "metadata": {},
   "source": [
    "# Q1  Explain Class and Object with respect to Object-Oriented Programming. Give a suitable example."
   ]
  },
  {
   "cell_type": "code",
   "execution_count": 2,
   "id": "3264c318",
   "metadata": {},
   "outputs": [],
   "source": [
    "# Class:- A class is a blueprint or a template for creating objects. \n",
    "         #It defines the properties (attributes) and behaviors (methods) that objects of that class will have. \n",
    "         #In simpler terms, a class describes the structure and behavior of a category of objects.\n",
    "        \n",
    "# Object:- An object is an instance of a class. \n",
    "         #It is a tangible entity that encapsulates data (attributes) and the methods (functions) that operate on that data. \n",
    "         #Objects are the actual entities that are created based on the class definition."
   ]
  },
  {
   "cell_type": "code",
   "execution_count": 3,
   "id": "23b2f54b",
   "metadata": {},
   "outputs": [
    {
     "name": "stdout",
     "output_type": "stream",
     "text": [
      "The 2022 Toyota Camry is now running.\n",
      "The 2023 Tesla Model S is now running.\n",
      "The 2022 Toyota Camry has been stopped.\n"
     ]
    }
   ],
   "source": [
    "class Car:\n",
    "    def __init__(self, make, model, year):\n",
    "        self.make = make\n",
    "        self.model = model\n",
    "        self.year = year\n",
    "\n",
    "    def start(self):      \n",
    "        print(f\"The {self.year} {self.make} {self.model} is now running.\")\n",
    "\n",
    "    def stop(self):\n",
    "        print(f\"The {self.year} {self.make} {self.model} has been stopped.\")\n",
    "\n",
    "# Creating objects of the Car class\n",
    "car1 = Car(\"Toyota\", \"Camry\", 2022)\n",
    "car2 = Car(\"Tesla\", \"Model S\", 2023)\n",
    "\n",
    "# Using object methods\n",
    "car1.start()\n",
    "car2.start()\n",
    "car1.stop()\n"
   ]
  },
  {
   "cell_type": "markdown",
   "id": "acf7915a",
   "metadata": {},
   "source": [
    "# Q2 Name the four pillars of OOPs."
   ]
  },
  {
   "cell_type": "code",
   "execution_count": 5,
   "id": "9f6072bd",
   "metadata": {},
   "outputs": [],
   "source": [
    "# 1-  Abstraction\n",
    "# 2-  Encapsulation \n",
    "# 3-  Inheritance\n",
    "# 4 - Polymorphism"
   ]
  },
  {
   "cell_type": "markdown",
   "id": "7b7d9827",
   "metadata": {},
   "source": [
    "# Q3. Explain why the __init__() function is used. Give a suitable example."
   ]
  },
  {
   "cell_type": "code",
   "execution_count": 6,
   "id": "ff510b6d",
   "metadata": {},
   "outputs": [],
   "source": [
    "# The __init__() function is used in object-oriented programming to initialize the attributes of an object when it is \n",
    "# created from a class. It serves as the constructor method and is automatically called when a new instance of a class\n",
    "# is instantiated. The primary purpose of the __init__() function is to set up the initial state of the object by assigning\n",
    "# values to its attributes."
   ]
  },
  {
   "cell_type": "code",
   "execution_count": 7,
   "id": "4067768b",
   "metadata": {},
   "outputs": [
    {
     "name": "stdout",
     "output_type": "stream",
     "text": [
      "The 2022 Toyota Camry is now running.\n",
      "The 2022 Toyota Camry has been stopped.\n"
     ]
    }
   ],
   "source": [
    "class Car:\n",
    "    def __init__(self, make, model, year):\n",
    "        self.make = make\n",
    "        self.model = model\n",
    "        self.year = year\n",
    "\n",
    "    def start(self):      \n",
    "        print(f\"The {self.year} {self.make} {self.model} is now running.\")\n",
    "\n",
    "    def stop(self):\n",
    "        print(f\"The {self.year} {self.make} {self.model} has been stopped.\")\n",
    "\n",
    "# Creating objects of the Car class\n",
    "car1 = Car(\"Toyota\", \"Camry\", 2022)\n",
    "\n",
    "\n",
    "# Using object methods\n",
    "car1.start()\n",
    "car1.stop()"
   ]
  },
  {
   "cell_type": "markdown",
   "id": "1c252ea6",
   "metadata": {},
   "source": [
    "# Q4. Why self is used in OOPs?"
   ]
  },
  {
   "cell_type": "code",
   "execution_count": 8,
   "id": "cacc28aa",
   "metadata": {},
   "outputs": [],
   "source": [
    "# In object-oriented programming (OOP), the self keyword is used to refer to the instance of the class within its own methods and attributes.\n",
    "#It's a way to distinguish between the instance variables of the class and the local variables within a method.\n",
    "#The use of self is essential for accessing and modifying attributes and methods associated with a specific instance of the class."
   ]
  },
  {
   "cell_type": "markdown",
   "id": "48269772",
   "metadata": {},
   "source": [
    "# Q5. What is inheritance? Give an example for each type of inheritance."
   ]
  },
  {
   "cell_type": "code",
   "execution_count": 9,
   "id": "1f7796d0",
   "metadata": {},
   "outputs": [],
   "source": [
    "# Inheritance is defined as the mechanism of inheriting the properties of the base class to the child class.\n",
    " # Types of Inheritance in Python\n",
    "    "
   ]
  },
  {
   "cell_type": "code",
   "execution_count": 10,
   "id": "445e55d9",
   "metadata": {},
   "outputs": [],
   "source": [
    "# 1. Single Inheritance: \n",
    "\n",
    "class test:\n",
    "    def test_meth(self):\n",
    "        return \"this is my first class\"\n",
    "    \n",
    "class child_test(test):# call the parent class in the child class\n",
    "    pass\n",
    "\n"
   ]
  },
  {
   "cell_type": "code",
   "execution_count": 11,
   "id": "0f38b782",
   "metadata": {},
   "outputs": [],
   "source": [
    "child_test_obj = child_test()"
   ]
  },
  {
   "cell_type": "code",
   "execution_count": 12,
   "id": "1f0e17ca",
   "metadata": {},
   "outputs": [
    {
     "data": {
      "text/plain": [
       "'this is my first class'"
      ]
     },
     "execution_count": 12,
     "metadata": {},
     "output_type": "execute_result"
    }
   ],
   "source": [
    "child_test_obj.test_meth()"
   ]
  },
  {
   "cell_type": "code",
   "execution_count": 13,
   "id": "34aa4248",
   "metadata": {},
   "outputs": [],
   "source": [
    "# 2. Multiple Inheritance: \n",
    "\n",
    "class class1:\n",
    "    def test_class1(self):\n",
    "        return \"this is class1\"\n",
    "\n",
    "class class2:\n",
    "    def test_class2(self):\n",
    "        return \"this is class2\"\n",
    "    \n",
    "class class3(class1, class2):\n",
    "    pass"
   ]
  },
  {
   "cell_type": "code",
   "execution_count": 14,
   "id": "1230f0b4",
   "metadata": {},
   "outputs": [],
   "source": [
    "obj_class3 = class3()"
   ]
  },
  {
   "cell_type": "code",
   "execution_count": 15,
   "id": "9be5fd7d",
   "metadata": {},
   "outputs": [
    {
     "data": {
      "text/plain": [
       "'this is class1'"
      ]
     },
     "execution_count": 15,
     "metadata": {},
     "output_type": "execute_result"
    }
   ],
   "source": [
    "obj_class3.test_class1()"
   ]
  },
  {
   "cell_type": "code",
   "execution_count": 16,
   "id": "7d51cf87",
   "metadata": {},
   "outputs": [
    {
     "data": {
      "text/plain": [
       "'this is class2'"
      ]
     },
     "execution_count": 16,
     "metadata": {},
     "output_type": "execute_result"
    }
   ],
   "source": [
    "obj_class3.test_class2()"
   ]
  },
  {
   "cell_type": "code",
   "execution_count": 17,
   "id": "1dc59bba",
   "metadata": {},
   "outputs": [],
   "source": [
    "# 3. Multilevel Inheritance :"
   ]
  },
  {
   "cell_type": "code",
   "execution_count": 18,
   "id": "cb297a31",
   "metadata": {},
   "outputs": [],
   "source": [
    "class class1:\n",
    "    def test_class1(self):\n",
    "        return \"this is method from class1\"\n",
    "    \n",
    "class class2(class1):\n",
    "    def test_class2(self):\n",
    "        return \"this is method from class2\"\n",
    "    \n",
    "class class3(class2):\n",
    "    pass"
   ]
  },
  {
   "cell_type": "code",
   "execution_count": 19,
   "id": "1131a4ab",
   "metadata": {},
   "outputs": [],
   "source": [
    "obj_class3 = class3()"
   ]
  },
  {
   "cell_type": "code",
   "execution_count": 20,
   "id": "e77b637a",
   "metadata": {},
   "outputs": [
    {
     "data": {
      "text/plain": [
       "'this is method from class1'"
      ]
     },
     "execution_count": 20,
     "metadata": {},
     "output_type": "execute_result"
    }
   ],
   "source": [
    "obj_class3.test_class1()"
   ]
  },
  {
   "cell_type": "code",
   "execution_count": 21,
   "id": "9baf7232",
   "metadata": {},
   "outputs": [
    {
     "data": {
      "text/plain": [
       "'this is method from class2'"
      ]
     },
     "execution_count": 21,
     "metadata": {},
     "output_type": "execute_result"
    }
   ],
   "source": [
    "obj_class3.test_class2()"
   ]
  },
  {
   "cell_type": "code",
   "execution_count": 23,
   "id": "8d416891",
   "metadata": {},
   "outputs": [],
   "source": [
    "# 4. Hierarchical Inheritance: \n",
    "class class1:\n",
    "    def test_class1(self):\n",
    "        return \"this is method from class1\"\n",
    "    \n",
    "class class2(class1):\n",
    "    def test_class2(self):\n",
    "        return \"this is method from class2\"\n",
    "    \n",
    "class class3(class1):\n",
    "    pass"
   ]
  },
  {
   "cell_type": "code",
   "execution_count": 25,
   "id": "51461d46",
   "metadata": {},
   "outputs": [],
   "source": [
    "obj_class3 = class3()"
   ]
  },
  {
   "cell_type": "code",
   "execution_count": 26,
   "id": "c39d5b10",
   "metadata": {},
   "outputs": [
    {
     "data": {
      "text/plain": [
       "'this is method from class1'"
      ]
     },
     "execution_count": 26,
     "metadata": {},
     "output_type": "execute_result"
    }
   ],
   "source": [
    "obj_class3.test_class1()"
   ]
  },
  {
   "cell_type": "code",
   "execution_count": 28,
   "id": "e0f9fd4f",
   "metadata": {},
   "outputs": [
    {
     "data": {
      "text/plain": [
       "'this is method from class1'"
      ]
     },
     "execution_count": 28,
     "metadata": {},
     "output_type": "execute_result"
    }
   ],
   "source": [
    "obj_class2 = class2()\n",
    "\n",
    "obj_class2.test_class1()"
   ]
  },
  {
   "cell_type": "code",
   "execution_count": 29,
   "id": "81f782b8",
   "metadata": {},
   "outputs": [],
   "source": [
    "# 5. Hybrid Inheritance:\n",
    "class class1:\n",
    "    def test_class1(self):\n",
    "        return \"this is method from class1\"\n",
    "    \n",
    "class class2(class1):\n",
    "    def test_class2(self):\n",
    "        return \"this is method from class2\"\n",
    "    \n",
    "class class3(class1):\n",
    "    def test_class3(self):\n",
    "        return \"this is method from class3\"\n",
    "    \n",
    "class class4(class1, class2):\n",
    "    def test_class4(self):\n",
    "        return \"this is method from class4\""
   ]
  },
  {
   "cell_type": "code",
   "execution_count": 33,
   "id": "00809a13",
   "metadata": {},
   "outputs": [],
   "source": [
    "obj_class4= class4()"
   ]
  },
  {
   "cell_type": "code",
   "execution_count": 34,
   "id": "e18f64fc",
   "metadata": {},
   "outputs": [
    {
     "data": {
      "text/plain": [
       "'this is method from class1'"
      ]
     },
     "execution_count": 34,
     "metadata": {},
     "output_type": "execute_result"
    }
   ],
   "source": [
    "obj_class4.test_class1()"
   ]
  },
  {
   "cell_type": "code",
   "execution_count": null,
   "id": "12384d7d",
   "metadata": {},
   "outputs": [],
   "source": []
  }
 ],
 "metadata": {
  "kernelspec": {
   "display_name": "Python 3 (ipykernel)",
   "language": "python",
   "name": "python3"
  },
  "language_info": {
   "codemirror_mode": {
    "name": "ipython",
    "version": 3
   },
   "file_extension": ".py",
   "mimetype": "text/x-python",
   "name": "python",
   "nbconvert_exporter": "python",
   "pygments_lexer": "ipython3",
   "version": "3.10.7"
  }
 },
 "nbformat": 4,
 "nbformat_minor": 5
}
