{
 "cells": [
  {
   "cell_type": "markdown",
   "id": "eb6e6ca9",
   "metadata": {},
   "source": [
    "# Q1, Create a vehicle class with an init method having instance variables as name_of_vehicle, max_speed and average_of_vehicle. "
   ]
  },
  {
   "cell_type": "code",
   "execution_count": 1,
   "id": "6f48fad4",
   "metadata": {},
   "outputs": [],
   "source": [
    "class vehicle:\n",
    "    \n",
    "    def __init__(self,name_of_vehicle,max_speed,average_of_vehicle):\n",
    "        self.name_of_vehicle=name_of_vehicle\n",
    "        self.max_speed=max_speed\n",
    "        self.average_of_vehicle= average_of_vehicle\n",
    "        \n",
    "    def return_vehicle_details(self):\n",
    "        return self.name_of_vehicle, self.max_speed, self.average_of_vehicle\n"
   ]
  },
  {
   "cell_type": "markdown",
   "id": "eaddddda",
   "metadata": {},
   "source": [
    "# Q2.  Create a child class car from the vehicle class created in Que 1, which will inherit the vehicle class.Create a method named seating_capacity which takes capacity as an argument and returns the name of the vehicle and its seating capacity."
   ]
  },
  {
   "cell_type": "code",
   "execution_count": 2,
   "id": "149498e2",
   "metadata": {},
   "outputs": [],
   "source": [
    "class car(vehicle):\n",
    "    def __init__(self, seating_capacity):\n",
    "        self.seating_capacity = seating_capacity\n",
    "        \n",
    "    def return_seat(self):\n",
    "        return self.seating_capacity\n",
    "    \n",
    "        "
   ]
  },
  {
   "cell_type": "markdown",
   "id": "ea8b126d",
   "metadata": {},
   "source": [
    "# Q3 What is multiple inheritance? Write a python code to demonstrate multiple inheritance"
   ]
  },
  {
   "cell_type": "markdown",
   "id": "29e7bf6f",
   "metadata": {},
   "source": [
    "# Multiple Inheritace"
   ]
  },
  {
   "cell_type": "code",
   "execution_count": 3,
   "id": "27474341",
   "metadata": {},
   "outputs": [],
   "source": [
    "#Multiple inheritance is refers to the ability of a class to inherit attributes and methods from more than one parent class. \n",
    "#In other words, a class can inherit characteristics and behaviors from multiple base classes"
   ]
  },
  {
   "cell_type": "code",
   "execution_count": 4,
   "id": "9d810ae9",
   "metadata": {},
   "outputs": [],
   "source": [
    "class class1:\n",
    "    def test_class1(self):\n",
    "        return \"This is class 1\""
   ]
  },
  {
   "cell_type": "code",
   "execution_count": 5,
   "id": "2326ba4b",
   "metadata": {},
   "outputs": [],
   "source": [
    "class class2:\n",
    "    def test_class2(self):\n",
    "        return \"This is class2 \""
   ]
  },
  {
   "cell_type": "code",
   "execution_count": 6,
   "id": "ab92b5bb",
   "metadata": {},
   "outputs": [],
   "source": [
    "class class3(class1,class2):\n",
    "    pass"
   ]
  },
  {
   "cell_type": "code",
   "execution_count": 7,
   "id": "d3b966a7",
   "metadata": {},
   "outputs": [],
   "source": [
    "obj_class3= class3()\n"
   ]
  },
  {
   "cell_type": "code",
   "execution_count": 8,
   "id": "fcfa1847",
   "metadata": {},
   "outputs": [
    {
     "data": {
      "text/plain": [
       "'This is class 1'"
      ]
     },
     "execution_count": 8,
     "metadata": {},
     "output_type": "execute_result"
    }
   ],
   "source": [
    "obj_class3.test_class1()"
   ]
  },
  {
   "cell_type": "markdown",
   "id": "741c907f",
   "metadata": {},
   "source": [
    "# Q4. What are getter and setter in python? Create a class and create a getter and a setter method in this class."
   ]
  },
  {
   "cell_type": "code",
   "execution_count": 9,
   "id": "bf419f87",
   "metadata": {},
   "outputs": [],
   "source": [
    "# In Python, getters and setters are methods used to control the access and modification of class attributes. \n",
    "# They allow you to enforce encapsulation and provide a way to get and set the values of private attributes,\n",
    "# typically with some additional logic or validation."
   ]
  },
  {
   "cell_type": "code",
   "execution_count": 10,
   "id": "44b0610e",
   "metadata": {},
   "outputs": [],
   "source": [
    "class person:\n",
    "    def __init__(self, name,age):\n",
    "        self.name = name\n",
    "        self.age = age\n",
    "        \n",
    "    def setname(self,name):\n",
    "        self.name = name\n",
    "        \n",
    "    def getname(self):\n",
    "        return self.name\n",
    "    \n",
    "    def setage(self,age):\n",
    "        self.age = age\n",
    "        \n",
    "    def getage(self):\n",
    "        return self.age"
   ]
  },
  {
   "cell_type": "code",
   "execution_count": 11,
   "id": "549d848d",
   "metadata": {},
   "outputs": [],
   "source": [
    "P=person(\"pankaj\", 12)"
   ]
  },
  {
   "cell_type": "code",
   "execution_count": 12,
   "id": "c60c0508",
   "metadata": {},
   "outputs": [
    {
     "data": {
      "text/plain": [
       "'pankaj'"
      ]
     },
     "execution_count": 12,
     "metadata": {},
     "output_type": "execute_result"
    }
   ],
   "source": [
    "P.getname()"
   ]
  },
  {
   "cell_type": "code",
   "execution_count": 13,
   "id": "e309733f",
   "metadata": {},
   "outputs": [
    {
     "data": {
      "text/plain": [
       "12"
      ]
     },
     "execution_count": 13,
     "metadata": {},
     "output_type": "execute_result"
    }
   ],
   "source": [
    "P.getage()"
   ]
  },
  {
   "cell_type": "markdown",
   "id": "853beead",
   "metadata": {},
   "source": [
    "# Q5.What is method overriding in python? Write a python code to demonstrate method overriding."
   ]
  },
  {
   "cell_type": "code",
   "execution_count": 14,
   "id": "258d3df1",
   "metadata": {},
   "outputs": [],
   "source": [
    "#Method overriding in Python refers to the ability of a subclass to provide a specific implementation for a method that is already defined in its parent class.\n",
    "#When a method is overridden in the subclass, the subclass version of the method is called instead of the parent class version when the method is invoked on an instance of the subclass."
   ]
  },
  {
   "cell_type": "code",
   "execution_count": 15,
   "id": "5d3572f5",
   "metadata": {},
   "outputs": [],
   "source": [
    "class Animal:\n",
    "    def make_sound(self):\n",
    "        print(\"Animal makes a sound\")\n",
    "\n",
    "class Dog(Animal):\n",
    "    def make_sound(self):\n",
    "        print(\"Dog barks\")\n",
    "\n",
    "class Cat(Animal):\n",
    "    def make_sound(self):\n",
    "        print(\"Cat meows\")"
   ]
  },
  {
   "cell_type": "code",
   "execution_count": 16,
   "id": "da3e95b0",
   "metadata": {},
   "outputs": [],
   "source": [
    "dog = Dog()\n",
    "cat = Cat()"
   ]
  },
  {
   "cell_type": "code",
   "execution_count": 17,
   "id": "852535bf",
   "metadata": {},
   "outputs": [
    {
     "name": "stdout",
     "output_type": "stream",
     "text": [
      "Dog barks\n",
      "Cat meows\n"
     ]
    }
   ],
   "source": [
    "dog.make_sound()\n",
    "cat.make_sound()"
   ]
  }
 ],
 "metadata": {
  "kernelspec": {
   "display_name": "Python 3 (ipykernel)",
   "language": "python",
   "name": "python3"
  },
  "language_info": {
   "codemirror_mode": {
    "name": "ipython",
    "version": 3
   },
   "file_extension": ".py",
   "mimetype": "text/x-python",
   "name": "python",
   "nbconvert_exporter": "python",
   "pygments_lexer": "ipython3",
   "version": "3.10.7"
  }
 },
 "nbformat": 4,
 "nbformat_minor": 5
}
