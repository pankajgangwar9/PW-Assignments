{
 "cells": [
  {
   "cell_type": "markdown",
   "id": "6ae32eb2",
   "metadata": {},
   "source": [
    "# Q1. How do you comment code in Python? What are the different types of comments?"
   ]
  },
  {
   "cell_type": "code",
   "execution_count": 1,
   "id": "a6699792",
   "metadata": {},
   "outputs": [
    {
     "data": {
      "text/plain": [
       "'\"In Python, We can add comments to your code to make it more readable and to explain the purpose or functionality of specific\\nlines or blocks of code. Comments are ignored by the Python interpreter and are meant for human understanding only.'"
      ]
     },
     "execution_count": 1,
     "metadata": {},
     "output_type": "execute_result"
    }
   ],
   "source": [
    "\"\"\"\"In Python, We can add comments to your code to make it more readable and to explain the purpose or functionality of specific\n",
    "lines or blocks of code. Comments are ignored by the Python interpreter and are meant for human understanding only.\"\"\"\n",
    "\n",
    "# the above line is multi line comment"
   ]
  },
  {
   "cell_type": "code",
   "execution_count": 2,
   "id": "a00220ba",
   "metadata": {},
   "outputs": [],
   "source": [
    "# There are two types of comments in Python:"
   ]
  },
  {
   "cell_type": "code",
   "execution_count": 3,
   "id": "37563ec5",
   "metadata": {},
   "outputs": [],
   "source": [
    "# 1:- Single-line comments: These are comments that span only a single line and start with the \"#\" symbol."
   ]
  },
  {
   "cell_type": "code",
   "execution_count": 4,
   "id": "db5a73cc",
   "metadata": {},
   "outputs": [
    {
     "name": "stdout",
     "output_type": "stream",
     "text": [
      "pankaj\n"
     ]
    }
   ],
   "source": [
    "# This is a single Line Comment\n",
    "\n",
    "print(\"pankaj\")"
   ]
  },
  {
   "cell_type": "code",
   "execution_count": 5,
   "id": "75d3b508",
   "metadata": {},
   "outputs": [],
   "source": [
    "# 2- Multi-Line Comments: In Multi-Line we can comments multiple line with the help of triple quotes (\"\"\" or ''')\n",
    "\n"
   ]
  },
  {
   "cell_type": "code",
   "execution_count": 6,
   "id": "e94eac71",
   "metadata": {},
   "outputs": [
    {
     "name": "stdout",
     "output_type": "stream",
     "text": [
      "pankaj\n"
     ]
    }
   ],
   "source": [
    "\"\"\"\"this is Multi-Line Comment\n",
    "    we can write multiple line in the triple quotes \n",
    "    this line will not print\"\"\"\n",
    "print(\"pankaj\")"
   ]
  },
  {
   "cell_type": "markdown",
   "id": "2315adf2",
   "metadata": {},
   "source": [
    "# Q2. What are variables in Python? How do you declare and assign values to variables?"
   ]
  },
  {
   "cell_type": "code",
   "execution_count": 7,
   "id": "b95614e4",
   "metadata": {},
   "outputs": [
    {
     "name": "stdout",
     "output_type": "stream",
     "text": [
      "Joker\n",
      "25\n",
      "5.11\n"
     ]
    }
   ],
   "source": [
    "\"\"\"In Python variable are used to store the values or we can say that \n",
    "A variable is a string of characters and numbers associated with a piece of information. \n",
    "The assignment operator, denoted by the “=” symbol, is the operator that is used to assign values to variables in Python.\"\"\"\n",
    "\n",
    "# we can assign different type of value into the variable\n",
    "name = \"Joker\"\n",
    "age = 25\n",
    "height = 5.11\n",
    "print(name)\n",
    "print(age)\n",
    "print(height)\n",
    "\n"
   ]
  },
  {
   "cell_type": "markdown",
   "id": "4465994d",
   "metadata": {},
   "source": [
    "# Q3. How do you convert one data type to another in Python?"
   ]
  },
  {
   "cell_type": "code",
   "execution_count": 8,
   "id": "3689ae57",
   "metadata": {},
   "outputs": [
    {
     "name": "stdout",
     "output_type": "stream",
     "text": [
      "3\n"
     ]
    }
   ],
   "source": [
    "\"\"\" In Python, We can convert one data type to another data type using type conversion functions or constructors.\n",
    "    Python provides built-in functions to convert between various data types\"\"\"\n",
    "\n",
    "# lets takes some example....\n",
    "# 1 int() convert any value to int\n",
    "\n",
    "float_number = 3.14\n",
    "integer_number = int(float_number)\n",
    "print(integer_number) "
   ]
  },
  {
   "cell_type": "code",
   "execution_count": 9,
   "id": "76f27823",
   "metadata": {},
   "outputs": [
    {
     "name": "stdout",
     "output_type": "stream",
     "text": [
      "314.0\n"
     ]
    }
   ],
   "source": [
    "#2 float\n",
    "integer_number = 314\n",
    "float_number = float(integer_number)\n",
    "print(float_number) "
   ]
  },
  {
   "cell_type": "markdown",
   "id": "2fc769d9",
   "metadata": {},
   "source": [
    "# Q4. How do you write and execute a Python script from the command line?"
   ]
  },
  {
   "cell_type": "code",
   "execution_count": 10,
   "id": "c691d23c",
   "metadata": {},
   "outputs": [
    {
     "data": {
      "text/plain": [
       "\" The most basic and easy way to run a Python script is by using the python command.\\nYou need to open a command line and type the word python followed by the path to your script file like this: \\npython first_script.py \\nHello World! \\nThen you hit the ENTER button from the keyboard, and that's it.\""
      ]
     },
     "execution_count": 10,
     "metadata": {},
     "output_type": "execute_result"
    }
   ],
   "source": [
    "\"\"\" The most basic and easy way to run a Python script is by using the python command.\n",
    "You need to open a command line and type the word python followed by the path to your script file like this: \n",
    "python first_script.py \n",
    "Hello World! \n",
    "Then you hit the ENTER button from the keyboard, and that's it.\"\"\""
   ]
  },
  {
   "cell_type": "markdown",
   "id": "e128fb81",
   "metadata": {},
   "source": [
    "# Q5. Given a list my_list = [1, 2, 3, 4, 5], write the code to slice the list and obtain the sub-list [2, 3]."
   ]
  },
  {
   "cell_type": "code",
   "execution_count": 11,
   "id": "f2215e26",
   "metadata": {},
   "outputs": [],
   "source": [
    "my_list=[1,2,3,4,5]\n"
   ]
  },
  {
   "cell_type": "code",
   "execution_count": 12,
   "id": "d7fb06e8",
   "metadata": {},
   "outputs": [
    {
     "data": {
      "text/plain": [
       "[1, 2, 3, 4, 5]"
      ]
     },
     "execution_count": 12,
     "metadata": {},
     "output_type": "execute_result"
    }
   ],
   "source": [
    "my_list"
   ]
  },
  {
   "cell_type": "code",
   "execution_count": 13,
   "id": "cef5f4c0",
   "metadata": {},
   "outputs": [
    {
     "data": {
      "text/plain": [
       "[2, 3]"
      ]
     },
     "execution_count": 13,
     "metadata": {},
     "output_type": "execute_result"
    }
   ],
   "source": [
    "my_list[1:3]"
   ]
  },
  {
   "cell_type": "markdown",
   "id": "0c334ae5",
   "metadata": {},
   "source": [
    "# Q6. What is a complex number in mathematics, and how is it represented in Python?"
   ]
  },
  {
   "cell_type": "code",
   "execution_count": 14,
   "id": "28546d96",
   "metadata": {},
   "outputs": [
    {
     "name": "stdout",
     "output_type": "stream",
     "text": [
      "(3+4j)\n"
     ]
    }
   ],
   "source": [
    "\"\"\" the number that contain both real part and imaginary part in the number is called complex number\"\"\"\n",
    "\n",
    "a= 3+4j\n",
    "print(a)"
   ]
  },
  {
   "cell_type": "code",
   "execution_count": 15,
   "id": "8ee7fe2a",
   "metadata": {},
   "outputs": [
    {
     "data": {
      "text/plain": [
       "complex"
      ]
     },
     "execution_count": 15,
     "metadata": {},
     "output_type": "execute_result"
    }
   ],
   "source": [
    "type(a)"
   ]
  },
  {
   "cell_type": "markdown",
   "id": "5f9e0a9d",
   "metadata": {},
   "source": [
    "# Q7. What is the correct way to declare a variable named age and assign the value 25 to it?"
   ]
  },
  {
   "cell_type": "code",
   "execution_count": 16,
   "id": "4c09a473",
   "metadata": {},
   "outputs": [
    {
     "name": "stdout",
     "output_type": "stream",
     "text": [
      "25\n"
     ]
    }
   ],
   "source": [
    "# The correct way to declare a variable named age and assign the value 25 to it in Python is as follows:\n",
    "age = 25\n",
    "print(age)"
   ]
  },
  {
   "cell_type": "markdown",
   "id": "b04d7acd",
   "metadata": {},
   "source": [
    "# Q8. Declare a variable named price and assign the value 9.99 to it. What data type does this variable belong to?"
   ]
  },
  {
   "cell_type": "code",
   "execution_count": 17,
   "id": "77be0503",
   "metadata": {},
   "outputs": [
    {
     "name": "stdout",
     "output_type": "stream",
     "text": [
      "9.99\n",
      "<class 'float'>\n"
     ]
    }
   ],
   "source": [
    "price = 9.99\n",
    "print(price)\n",
    "print(type(price))"
   ]
  },
  {
   "cell_type": "markdown",
   "id": "52652ce4",
   "metadata": {},
   "source": [
    "# Q9. Create a variable named name and assign your full name to it as a string. How would you print the value of this variable?"
   ]
  },
  {
   "cell_type": "code",
   "execution_count": 18,
   "id": "b85da1e9",
   "metadata": {},
   "outputs": [
    {
     "name": "stdout",
     "output_type": "stream",
     "text": [
      "pankaj gangwar\n"
     ]
    }
   ],
   "source": [
    "name = \"pankaj gangwar\"\n",
    "print(name)\n",
    "\n",
    "#The print() function displays the value of the variable name on the console, allowing you to see the full name stored in the name variable.\n"
   ]
  },
  {
   "cell_type": "markdown",
   "id": "6ab341ed",
   "metadata": {},
   "source": [
    "# Q10. Given the string \"Hello, World!\", extract the substring \"World\"."
   ]
  },
  {
   "cell_type": "code",
   "execution_count": 19,
   "id": "f8403ba0",
   "metadata": {},
   "outputs": [
    {
     "name": "stdout",
     "output_type": "stream",
     "text": [
      "World\n"
     ]
    }
   ],
   "source": [
    "string = \"Hello, World!\"\n",
    "substring = string[7:12]\n",
    "print(substring)\n"
   ]
  },
  {
   "cell_type": "markdown",
   "id": "039d17b1",
   "metadata": {},
   "source": [
    "# Q11. Create a variable named \"is_student\" and assign it a boolean value indicating whether you are currently a student or not"
   ]
  },
  {
   "cell_type": "code",
   "execution_count": 20,
   "id": "e4c475bb",
   "metadata": {},
   "outputs": [],
   "source": [
    "is_student = True"
   ]
  },
  {
   "cell_type": "code",
   "execution_count": 21,
   "id": "70be986f",
   "metadata": {},
   "outputs": [
    {
     "data": {
      "text/plain": [
       "True"
      ]
     },
     "execution_count": 21,
     "metadata": {},
     "output_type": "execute_result"
    }
   ],
   "source": [
    "is_student"
   ]
  }
 ],
 "metadata": {
  "kernelspec": {
   "display_name": "Python 3 (ipykernel)",
   "language": "python",
   "name": "python3"
  },
  "language_info": {
   "codemirror_mode": {
    "name": "ipython",
    "version": 3
   },
   "file_extension": ".py",
   "mimetype": "text/x-python",
   "name": "python",
   "nbconvert_exporter": "python",
   "pygments_lexer": "ipython3",
   "version": "3.10.7"
  }
 },
 "nbformat": 4,
 "nbformat_minor": 5
}
