{
 "cells": [
  {
   "cell_type": "markdown",
   "id": "810e3eee",
   "metadata": {},
   "source": [
    "# Q1 Which keyword is used to create a function? Create a function to return a list of odd numbers in the range of 1 to 25"
   ]
  },
  {
   "cell_type": "code",
   "execution_count": 1,
   "id": "849c81d4",
   "metadata": {},
   "outputs": [],
   "source": [
    "# 'def' is the keyword used to start the function definition"
   ]
  },
  {
   "cell_type": "code",
   "execution_count": 2,
   "id": "a0bc70b6",
   "metadata": {},
   "outputs": [],
   "source": [
    "def odd_numbers():\n",
    "    l1=[]\n",
    "    for i in range(1,25):\n",
    "        if(i%2!=0):\n",
    "            l1.append(i)\n",
    "    return l1  "
   ]
  },
  {
   "cell_type": "code",
   "execution_count": 3,
   "id": "15f21a96",
   "metadata": {},
   "outputs": [
    {
     "data": {
      "text/plain": [
       "[1, 3, 5, 7, 9, 11, 13, 15, 17, 19, 21, 23]"
      ]
     },
     "execution_count": 3,
     "metadata": {},
     "output_type": "execute_result"
    }
   ],
   "source": [
    "odd_numbers()"
   ]
  },
  {
   "cell_type": "markdown",
   "id": "032b326f",
   "metadata": {},
   "source": [
    "# Q2 Why * args and ** kwargs is used in some functions? Create a function each for * args and ** kwargs to demonstrate their use"
   ]
  },
  {
   "cell_type": "code",
   "execution_count": null,
   "id": "563a48bf",
   "metadata": {},
   "outputs": [],
   "source": [
    "# as we know that both *args and **kwargs this not the fix name user can give name according to there choice but remeber single(*) and double(**) \n",
    "# if we check the type of the *args it tuple type *args passes variable number of non-keyworded arguments\n",
    "# and on which operation of the tuple can be performed\n",
    "# the type of **kwargs in dict **kwargs passes variable number of keyword arguments dictionary to function on which operation of a dictionary can be performed"
   ]
  },
  {
   "cell_type": "code",
   "execution_count": null,
   "id": "d3ac1be5",
   "metadata": {},
   "outputs": [],
   "source": [
    "def test1(*args):\n",
    "    return args\n"
   ]
  },
  {
   "cell_type": "code",
   "execution_count": 6,
   "id": "580c96e2",
   "metadata": {},
   "outputs": [],
   "source": [
    "type(test1())"
   ]
  },
  {
   "cell_type": "code",
   "execution_count": 7,
   "id": "d6738b1d",
   "metadata": {},
   "outputs": [
    {
     "data": {
      "text/plain": [
       "(1, 2, 3, 43)"
      ]
     },
     "execution_count": 7,
     "metadata": {},
     "output_type": "execute_result"
    }
   ],
   "source": [
    "test1(1,2,3,43)"
   ]
  },
  {
   "cell_type": "code",
   "execution_count": 8,
   "id": "7768c753",
   "metadata": {},
   "outputs": [],
   "source": [
    "def test2(**kwargs):\n",
    "    return kwargs"
   ]
  },
  {
   "cell_type": "code",
   "execution_count": 9,
   "id": "143b04da",
   "metadata": {},
   "outputs": [
    {
     "data": {
      "text/plain": [
       "tuple"
      ]
     },
     "execution_count": 9,
     "metadata": {},
     "output_type": "execute_result"
    }
   ],
   "source": [
    "type(test1())"
   ]
  },
  {
   "cell_type": "code",
   "execution_count": 10,
   "id": "189ff3e9",
   "metadata": {},
   "outputs": [
    {
     "data": {
      "text/plain": [
       "{'a': [1, 2, 3, 4], 'b': 'pankaj', 'c': 24.43}"
      ]
     },
     "execution_count": 10,
     "metadata": {},
     "output_type": "execute_result"
    }
   ],
   "source": [
    "test2(a=[1,2,3,4], b=\"pankaj\", c=24.43)"
   ]
  },
  {
   "cell_type": "markdown",
   "id": "6c6d3977",
   "metadata": {},
   "source": [
    "# Q3.  What is an iterator in python? Name the method used to initialise the iterator object and the method used for iteration. Use these methods to print the first five elements of the given list [2, 4, 6, 8, 10, 12, 14,16, 18, 20]"
   ]
  },
  {
   "cell_type": "code",
   "execution_count": 11,
   "id": "8a6695b7",
   "metadata": {},
   "outputs": [],
   "source": [
    "# In Python, an iterator is an object that allows sequential access to elements in a collection, \n",
    "# such as lists, tuples, dictionaries, etc\n",
    "# It provides two main methods: __iter__() for initializing the iterator object \n",
    "# and __next__() for iteration to access elements one by one."
   ]
  },
  {
   "cell_type": "code",
   "execution_count": 12,
   "id": "9fb7c3c1",
   "metadata": {},
   "outputs": [],
   "source": [
    "List = [2, 4, 6, 8, 10, 12, 14,16, 18, 20]"
   ]
  },
  {
   "cell_type": "code",
   "execution_count": 13,
   "id": "fadd72b0",
   "metadata": {},
   "outputs": [],
   "source": [
    "l1=iter(List)"
   ]
  },
  {
   "cell_type": "code",
   "execution_count": 14,
   "id": "24fa869d",
   "metadata": {},
   "outputs": [
    {
     "data": {
      "text/plain": [
       "2"
      ]
     },
     "execution_count": 14,
     "metadata": {},
     "output_type": "execute_result"
    }
   ],
   "source": [
    "next(l1)"
   ]
  },
  {
   "cell_type": "code",
   "execution_count": 15,
   "id": "19e8091e",
   "metadata": {},
   "outputs": [
    {
     "data": {
      "text/plain": [
       "4"
      ]
     },
     "execution_count": 15,
     "metadata": {},
     "output_type": "execute_result"
    }
   ],
   "source": [
    "next(l1)"
   ]
  },
  {
   "cell_type": "code",
   "execution_count": 16,
   "id": "86ab4793",
   "metadata": {},
   "outputs": [
    {
     "data": {
      "text/plain": [
       "6"
      ]
     },
     "execution_count": 16,
     "metadata": {},
     "output_type": "execute_result"
    }
   ],
   "source": [
    "next(l1)"
   ]
  },
  {
   "cell_type": "code",
   "execution_count": 17,
   "id": "196c2cbd",
   "metadata": {},
   "outputs": [
    {
     "data": {
      "text/plain": [
       "8"
      ]
     },
     "execution_count": 17,
     "metadata": {},
     "output_type": "execute_result"
    }
   ],
   "source": [
    "next(l1)"
   ]
  },
  {
   "cell_type": "code",
   "execution_count": 18,
   "id": "77d894d4",
   "metadata": {},
   "outputs": [
    {
     "data": {
      "text/plain": [
       "10"
      ]
     },
     "execution_count": 18,
     "metadata": {},
     "output_type": "execute_result"
    }
   ],
   "source": [
    "next(l1)"
   ]
  },
  {
   "cell_type": "markdown",
   "id": "41a71966",
   "metadata": {},
   "source": [
    "# Q4. What is a generator function in python? Why yield keyword is used? Give an example of a generator function."
   ]
  },
  {
   "cell_type": "code",
   "execution_count": 19,
   "id": "153fab98",
   "metadata": {},
   "outputs": [],
   "source": [
    "#  generator function\n",
    "# A generator function in Python is a special type of function that generates a sequence of values one at a time, \n",
    "#instead of returning a single value like a regular function. It uses the yield keyword to produce values in a series"
   ]
  },
  {
   "cell_type": "code",
   "execution_count": 20,
   "id": "93ec1fe0",
   "metadata": {},
   "outputs": [],
   "source": [
    "# Yield Keyword\n",
    "# The yield keyword is used in generator functions to return a value to the caller while preserving the function's state. \n",
    "# When the yield statement is encountered, the function halts and returns the yielded value to the caller"
   ]
  },
  {
   "cell_type": "code",
   "execution_count": 21,
   "id": "6dda0738",
   "metadata": {},
   "outputs": [],
   "source": [
    "def test_fib(n):\n",
    "    a,b=0,1\n",
    "    for i in range(n):\n",
    "        yield a\n",
    "        a,b = b,a+b"
   ]
  },
  {
   "cell_type": "code",
   "execution_count": null,
   "id": "27d36f0d",
   "metadata": {},
   "outputs": [],
   "source": [
    "test_fib(10)"
   ]
  },
  {
   "cell_type": "code",
   "execution_count": null,
   "id": "1eae2a03",
   "metadata": {},
   "outputs": [],
   "source": [
    "for i in test_fib(10):\n",
    "    print(i)"
   ]
  },
  {
   "cell_type": "markdown",
   "id": "2755187a",
   "metadata": {},
   "source": [
    "# Q5. Create a generator function for prime numbers less than 1000. Use the next() method to print the first 20 prime numbers."
   ]
  },
  {
   "cell_type": "code",
   "execution_count": null,
   "id": "129510d9",
   "metadata": {},
   "outputs": [],
   "source": [
    "def primes_generator():\n",
    "    primes = []\n",
    "    num = 2\n",
    "\n",
    "    while num < 1000:\n",
    "        is_prime = True\n",
    "        for i in primes:\n",
    "            if num % i == 0:\n",
    "                is_prime = False\n",
    "                break\n",
    "\n",
    "        if is_prime:\n",
    "            primes.append(num)\n",
    "            yield num\n",
    "\n",
    "        num += 1\n",
    "# Using the generator to print the first 20 prime numbers\n",
    "prime_generator = primes_generator()\n",
    "for _ in range(20):\n",
    "    print(next(prime_generator))\n"
   ]
  },
  {
   "cell_type": "markdown",
   "id": "0cd33867",
   "metadata": {},
   "source": [
    "# Q6. Write a python program to print the first 10 Fibonacci numbers using a while loop"
   ]
  },
  {
   "cell_type": "code",
   "execution_count": null,
   "id": "09838958",
   "metadata": {},
   "outputs": [],
   "source": [
    "a, b = 0, 1\n",
    "count = 0\n",
    "while count < 10:\n",
    "    print(a, end=\" \")\n",
    "    a, b = b, a + b\n",
    "    count += 1\n",
    "    "
   ]
  },
  {
   "cell_type": "markdown",
   "id": "48b46c87",
   "metadata": {},
   "source": [
    "# Q7. Write a List Comprehension to iterate through the given string: ‘pwskills’. Expected output: ['p', 'w', 's', 'k', 'i', 'l', 'l', 's'] "
   ]
  },
  {
   "cell_type": "code",
   "execution_count": null,
   "id": "f79f3d19",
   "metadata": {},
   "outputs": [],
   "source": [
    "s=\"pwskills\""
   ]
  },
  {
   "cell_type": "code",
   "execution_count": null,
   "id": "616985fa",
   "metadata": {},
   "outputs": [],
   "source": [
    "list(map(lambda s :s.lower(), s))"
   ]
  },
  {
   "cell_type": "markdown",
   "id": "84e8d70e",
   "metadata": {},
   "source": [
    "# Q8.Write a python program to check whether a given number is Palindrome or not using a while loop."
   ]
  },
  {
   "cell_type": "code",
   "execution_count": null,
   "id": "17738bd8",
   "metadata": {},
   "outputs": [],
   "source": [
    "num=int(input(\"enter the numbber\"))\n",
    "temp=num\n",
    "r=0\n",
    "while(num > 0):\n",
    "    s=num%10\n",
    "    r= r*10 + s\n",
    "    num=num//10\n",
    "if(temp==r):\n",
    "    print(\"Number is Palindrome\")\n",
    "else:\n",
    "    print(\"Number is not Pallindrome\")\n",
    "    \n"
   ]
  },
  {
   "cell_type": "markdown",
   "id": "496b0f81",
   "metadata": {},
   "source": [
    "# Q9. Write a code to print odd numbers from 1 to 100 using list comprehension"
   ]
  },
  {
   "cell_type": "code",
   "execution_count": null,
   "id": "847f1118",
   "metadata": {},
   "outputs": [],
   "source": [
    "l4=[]\n",
    "for i in range(1,101):\n",
    "    l4.append(i)"
   ]
  },
  {
   "cell_type": "code",
   "execution_count": null,
   "id": "f0394c74",
   "metadata": {},
   "outputs": [],
   "source": [
    "list(filter(lambda x : x%2!=0, l4))"
   ]
  }
 ],
 "metadata": {
  "kernelspec": {
   "display_name": "Python 3 (ipykernel)",
   "language": "python",
   "name": "python3"
  },
  "language_info": {
   "codemirror_mode": {
    "name": "ipython",
    "version": 3
   },
   "file_extension": ".py",
   "mimetype": "text/x-python",
   "name": "python",
   "nbconvert_exporter": "python",
   "pygments_lexer": "ipython3",
   "version": "3.10.7"
  }
 },
 "nbformat": 4,
 "nbformat_minor": 5
}
