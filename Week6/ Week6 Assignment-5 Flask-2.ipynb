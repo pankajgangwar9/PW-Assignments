{
 "cells": [
  {
   "cell_type": "markdown",
   "id": "a97de91e",
   "metadata": {},
   "source": [
    "# Q1. Explain GET and POST methods."
   ]
  },
  {
   "cell_type": "markdown",
   "id": "629dab1e",
   "metadata": {},
   "source": [
    "## GET\n",
    "\n",
    "GET is used to request data from a specified resource. It can retrieve any visible data to a client, such as HTML documents, images, and videos:\n",
    "\n",
    "To send a GET request, a client needs to specify the URL of the resource it wants to retrieve. The request is then sent to the server, which processes the request and sends the requested data back to the client.\n"
   ]
  },
  {
   "cell_type": "markdown",
   "id": "91eee358",
   "metadata": {},
   "source": [
    "## Post\n",
    "\n",
    "The POST sends data to a server to create or update a resource. For example, it is often used to submit an HTML form to a server:\n",
    "\n",
    "To send a POST request, a client needs to specify the URL of the resource to which it wants to send data and the data itself. The request is then sent to the server, which processes the request and sends a response back to the client.\n",
    "\n",
    "The POST method is often used to submit forms or upload files to a server.\n",
    "\n"
   ]
  },
  {
   "cell_type": "markdown",
   "id": "da3c7e1e",
   "metadata": {},
   "source": [
    "# Q2. Why is request used in Flask?"
   ]
  },
  {
   "cell_type": "markdown",
   "id": "ca875c3e",
   "metadata": {},
   "source": [
    "The Request, in Flask, is an object that contains all the data sent from the Client to Server. This data can be recovered using the GET/POST Methods."
   ]
  },
  {
   "cell_type": "markdown",
   "id": "943b0cee",
   "metadata": {},
   "source": [
    "# Q3. Why is redirect() used in Flask?"
   ]
  },
  {
   "cell_type": "markdown",
   "id": "3d310b80",
   "metadata": {},
   "source": [
    "A redirect is used in the Flask class to send the user to a particular URL with the status code. conversely, this status code additionally identifies the issue"
   ]
  },
  {
   "cell_type": "markdown",
   "id": "a35c6b65",
   "metadata": {},
   "source": [
    "# Q4. What are templates in Flask? Why is the render_template() function used?"
   ]
  },
  {
   "cell_type": "markdown",
   "id": "03935cc8",
   "metadata": {},
   "source": [
    "In Flask, templates are files that contain HTML markup with placeholders or variables that can be dynamically populated with data from your application. Templates are an essential part of creating dynamic web pages in Flask, allowing you to separate the presentation logic (HTML structure) from the application logic (Python code).\n",
    "\n",
    "Here's why templates are important in Flask:\n",
    "\n",
    "Separation of Concerns: Templates enable the separation of concerns by keeping the HTML presentation separate from the Python code. This separation makes code easier to maintain and understand.\n",
    "\n",
    "Dynamic Content: Templates allow you to insert dynamic content into HTML pages by replacing placeholders with data from your application. This dynamic content can come from database queries, user input, or other sources.\n",
    "\n",
    "Reusable: Templates can be reused across multiple routes or views in your application. You can create consistent layouts and reuse them for different pages or sections of your website.\n",
    "\n",
    "Customization: Templates provide flexibility for customizing the appearance and layout of your web pages. You can easily update the HTML structure without modifying the underlying Python code.\n",
    "\n",
    "Security: Templates help prevent common web security vulnerabilities like cross-site scripting (XSS) by automatically escaping user input when rendering templates."
   ]
  },
  {
   "cell_type": "markdown",
   "id": "affcb139",
   "metadata": {},
   "source": [
    "## Here's an example of how the render_template() function is used in Flask:"
   ]
  },
  {
   "cell_type": "code",
   "execution_count": null,
   "id": "0302b66d",
   "metadata": {},
   "outputs": [],
   "source": [
    "from flask import Flask, render_template\n",
    "\n",
    "app = Flask(__name__)\n",
    "\n",
    "@app.route('/')\n",
    "def home():\n",
    "    # Data to be passed to the template\n",
    "    user_name = 'John'\n",
    "    greeting = 'Hello,'\n",
    "    \n",
    "    # Render the 'home.html' template with the provided data\n",
    "    return render_template('home.html', user_name=user_name, greeting=greeting)\n",
    "\n",
    "if __name__ == '__main__':\n",
    "    app.run()\n"
   ]
  },
  {
   "cell_type": "markdown",
   "id": "fc898102",
   "metadata": {},
   "source": [
    "# Q5. Create a simple API. Use Postman to test it. Attach the screenshot of the output in the Jupyter Notebook."
   ]
  },
  {
   "cell_type": "code",
   "execution_count": null,
   "id": "7a309ba9",
   "metadata": {},
   "outputs": [],
   "source": []
  }
 ],
 "metadata": {
  "kernelspec": {
   "display_name": "Python 3 (ipykernel)",
   "language": "python",
   "name": "python3"
  },
  "language_info": {
   "codemirror_mode": {
    "name": "ipython",
    "version": 3
   },
   "file_extension": ".py",
   "mimetype": "text/x-python",
   "name": "python",
   "nbconvert_exporter": "python",
   "pygments_lexer": "ipython3",
   "version": "3.10.7"
  }
 },
 "nbformat": 4,
 "nbformat_minor": 5
}
