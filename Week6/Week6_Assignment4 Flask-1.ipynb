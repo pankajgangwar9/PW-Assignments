{
 "cells": [
  {
   "cell_type": "markdown",
   "id": "e1e44061",
   "metadata": {},
   "source": [
    "# Q1. What is Flask Framework? What are the advantages of Flask Framework?"
   ]
  },
  {
   "cell_type": "markdown",
   "id": "40ea37cd",
   "metadata": {},
   "source": [
    "Flask allows you to build a web application by providing tools, libraries, and technologies. This web application will be a web page, a wiki, or a big web-based calendar application or commercial website. "
   ]
  },
  {
   "cell_type": "markdown",
   "id": "6c144983",
   "metadata": {},
   "source": [
    "## Advantages of the Flask framework\n",
    "\n",
    "Easy to understand development\n",
    "It is very flexible and easy.\n",
    "\n",
    "## Disadvantages of flask\n",
    " Scale\n",
    " \n",
    " Modules"
   ]
  },
  {
   "cell_type": "markdown",
   "id": "44c0022b",
   "metadata": {},
   "source": [
    "# Q2. Create a simple Flask application to display ‘Hello World!!’. Attach the screenshot of the output in Jupyter Notebook."
   ]
  },
  {
   "cell_type": "code",
   "execution_count": null,
   "id": "9154acef",
   "metadata": {},
   "outputs": [],
   "source": [
    "from flask import Flask\n",
    "\n",
    "# Create a Flask web application\n",
    "app = Flask(__name__)\n",
    "\n",
    "# Define a route to display \"Hello World\"\n",
    "@app.route('/')\n",
    "def hello_world():\n",
    "    return 'Hello World'\n",
    "\n",
    "# Run the Flask application\n",
    "if __name__ == '__main__':\n",
    "    app.run()\n"
   ]
  },
  {
   "cell_type": "markdown",
   "id": "fe25b698",
   "metadata": {},
   "source": [
    "![title](hello.png)"
   ]
  },
  {
   "cell_type": "markdown",
   "id": "fd0fcf92",
   "metadata": {},
   "source": [
    "# Q3. What is App routing in Flask? Why do we use app routes?"
   ]
  },
  {
   "cell_type": "markdown",
   "id": "8d7207a1",
   "metadata": {},
   "source": [
    "In Flask, app routing refers to the process of defining URL routes and mapping them to specific functions or view handlers within your web application. These routes determine how different URLs or endpoints will be processed and what content will be displayed when a user accesses those URLs."
   ]
  },
  {
   "cell_type": "markdown",
   "id": "51de7be7",
   "metadata": {},
   "source": [
    "Here's why app routing is important and why we use app routes in Flask:\n",
    "\n",
    "URL Handling: App routing allows you to define the structure and organization of your web application's URLs. You can specify how different URL patterns should be handled by your application, making it easy to create a hierarchy of routes for various parts of your application.\n",
    "\n",
    "Resource Mapping: With app routing, you can map URLs to specific resources, such as HTML templates, functions, or methods. This mapping ensures that when a user accesses a particular URL, the associated resource is used to generate the response.\n",
    "\n",
    "Request Handling: App routes define how incoming HTTP requests are processed. Each route is associated with a view function, which is responsible for handling the request, processing data, and generating a response.\n",
    "\n",
    "RESTful Routing: For RESTful web applications, app routing is crucial for defining endpoints that correspond to different RESTful operations (e.g., GET, POST, PUT, DELETE). This makes it easy to design web APIs that conform to REST principles.\n",
    "\n",
    "Code Organization: App routing promotes a clean and organized code structure. By mapping routes to specific view functions, you can modularize your codebase, separating concerns and making it easier to maintain and extend your application.\n",
    "\n",
    "User Experience: Routing plays a vital role in creating a user-friendly experience. It ensures that users can access different parts of your application by following meaningful and intuitive URLs."
   ]
  },
  {
   "cell_type": "markdown",
   "id": "9489de4b",
   "metadata": {},
   "source": [
    "# Q4. Create a “/welcome” route to display the welcome message “Welcome to ABC Corporation” and a “/” route to show the following details\n",
    "# Company Name: ABC Corporation\n",
    "# Location: India\n",
    "# Contact Detail: 999-999-9999\n",
    "\n",
    "# Attach the screenshot of the output in Jupyter Notebook."
   ]
  },
  {
   "cell_type": "code",
   "execution_count": null,
   "id": "563fc974",
   "metadata": {},
   "outputs": [],
   "source": [
    "from flask import Flask\n",
    "\n",
    "app = Flask(__name__)\n",
    "\n",
    "@app.route('/')\n",
    "def company_details():\n",
    "    return '''\n",
    "    <h1>Company Details</h1>\n",
    "    <p><strong>Company Name:</strong> ABC Corporation</p>\n",
    "    <p><strong>Location:</strong> India</p>\n",
    "    <p><strong>Contact Detail:</strong> 999-999-9999</p>\n",
    "    '''\n",
    "\n",
    "@app.route('/welcome')\n",
    "def welcome():\n",
    "    return '<h1>Welcome to ABC Corporation</h1>'\n",
    "\n",
    "if __name__ == '__main__':\n",
    "    app.run()\n"
   ]
  },
  {
   "cell_type": "markdown",
   "id": "ca7d7d1b",
   "metadata": {},
   "source": [
    "# Q5. What function is used in Flask for URL Building? Write a Python code to demonstrate the working of the url_for() function."
   ]
  },
  {
   "cell_type": "markdown",
   "id": "d1704780",
   "metadata": {},
   "source": [
    "In Flask, the url_for() function is used for URL building. It generates URLs for the routes defined in your Flask application, allowing you to create links between different views or endpoints dynamically. This is particularly useful because it abstracts the URL structure from the code, making your application more maintainable and less error-prone."
   ]
  },
  {
   "cell_type": "markdown",
   "id": "d08512e2",
   "metadata": {},
   "source": [
    "## Import the url_for function from Flask:"
   ]
  },
  {
   "cell_type": "code",
   "execution_count": null,
   "id": "64245222",
   "metadata": {},
   "outputs": [],
   "source": [
    "from flask import Flask, url_for\n",
    "\n",
    "app = Flask(__name__)\n",
    "\n",
    "# Define some routes\n",
    "@app.route('/')\n",
    "def home():\n",
    "    return 'Welcome to the home page!'\n",
    "\n",
    "@app.route('/about')\n",
    "def about():\n",
    "    return 'This is the about page.'\n",
    "\n",
    "@app.route('/contact')\n",
    "def contact():\n",
    "    return 'Contact us at contact@example.com'\n",
    "\n",
    "if __name__ == '__main__':\n",
    "    app.run()\n"
   ]
  },
  {
   "cell_type": "markdown",
   "id": "2e55fcf4",
   "metadata": {},
   "source": [
    "## Create a route that demonstrates the usage of url_for():"
   ]
  },
  {
   "cell_type": "code",
   "execution_count": null,
   "id": "7df58213",
   "metadata": {},
   "outputs": [],
   "source": [
    "@app.route('/link')\n",
    "def link():\n",
    "    # Generate URLs using url_for()\n",
    "    home_url = url_for('home')\n",
    "    about_url = url_for('about')\n",
    "    contact_url = url_for('contact')\n",
    "\n",
    "    # Create HTML links using the generated URLs\n",
    "    return f'''\n",
    "    <h1>Links</h1>\n",
    "    <ul>\n",
    "        <li><a href=\"{home_url}\">Home</a></li>\n",
    "        <li><a href=\"{about_url}\">About</a></li>\n",
    "        <li><a href=\"{contact_url}\">Contact</a></li>\n",
    "    </ul>\n",
    "    '''\n"
   ]
  }
 ],
 "metadata": {
  "kernelspec": {
   "display_name": "Python 3 (ipykernel)",
   "language": "python",
   "name": "python3"
  },
  "language_info": {
   "codemirror_mode": {
    "name": "ipython",
    "version": 3
   },
   "file_extension": ".py",
   "mimetype": "text/x-python",
   "name": "python",
   "nbconvert_exporter": "python",
   "pygments_lexer": "ipython3",
   "version": "3.10.7"
  }
 },
 "nbformat": 4,
 "nbformat_minor": 5
}
