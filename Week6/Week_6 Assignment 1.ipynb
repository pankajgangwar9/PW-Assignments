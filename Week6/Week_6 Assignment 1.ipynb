{
 "cells": [
  {
   "cell_type": "markdown",
   "id": "a1642ac4",
   "metadata": {},
   "source": [
    "# Q1. What is a database? Differentiate between SQL and NoSQL databases."
   ]
  },
  {
   "cell_type": "code",
   "execution_count": 2,
   "id": "649bf53f",
   "metadata": {},
   "outputs": [],
   "source": [
    "# A database is an organized collection of data that can be easily accessed and managed 1. It can be used to store, retrieve, and manage data. Databases can be organized into tables, rows, columns, and indexed to make it easier to find relevant information\n",
    "# There are many databases available like MySQL, Sybase, Oracle, MongoDB, Informix, PostgreSQL, SQL Server, etc"
   ]
  },
  {
   "cell_type": "markdown",
   "id": "2e93a5ba",
   "metadata": {},
   "source": [
    "# SQL v/s NoSQL"
   ]
  },
  {
   "cell_type": "code",
   "execution_count": 3,
   "id": "bf6302c3",
   "metadata": {},
   "outputs": [],
   "source": [
    "# SQL or Structured Query Language is used to operate on the data stored in a database. SQL depends on relational algebra and tuple relational calculus. SQL databases are primarily called Relational Databases (RDBMS)\n",
    "# SQL databases define and manipulate data-based structured query language (SQL). SQL is one of the most versatile and widely-used options available which makes it a safe choice, especially for great complex queries.\n",
    "\n",
    "\n",
    "# On the other hand, NoSQL databases are primarily called non-relational or distributed databases \n",
    "# NoSQL databases have a dynamic schema for unstructured data. \n",
    "# Data is stored in many ways which means it can be document-oriented, column-oriented, graph-based, or organized as a key-value store\n"
   ]
  },
  {
   "cell_type": "markdown",
   "id": "9006fe94",
   "metadata": {},
   "source": [
    "# Q2. What is DDL? Explain why CREATE, DROP, ALTER, and TRUNCATE are used with an example."
   ]
  },
  {
   "cell_type": "code",
   "execution_count": 9,
   "id": "c870aa06",
   "metadata": {},
   "outputs": [
    {
     "data": {
      "text/plain": [
       "'CREATE TABLE Employees (\\n    EmployeeID INT PRIMARY KEY,\\n    FirstName VARCHAR(50),\\n    LastName VARCHAR(50),\\n    DepartmentID INT\\n);'"
      ]
     },
     "execution_count": 9,
     "metadata": {},
     "output_type": "execute_result"
    }
   ],
   "source": [
    "# DDL stands for Data Definition Language, which is a subset of SQL (Structured Query Language) used for defining and managing\n",
    "#the structure of a database. DDL commands allow you to create, modify, and delete database objects such as tables, indexes,\n",
    "# and constraints. Here's an explanation of four important DDL commands and examples of how they are used:\n",
    "\n",
    "# CREATE: The CREATE statement is used to create new database objects, such as tables, indexes, views, and schemas.\n",
    "# It defines the structure and characteristics of these objects.\n",
    "'''CREATE TABLE Employees (\n",
    "    EmployeeID INT PRIMARY KEY,\n",
    "    FirstName VARCHAR(50),\n",
    "    LastName VARCHAR(50),\n",
    "    DepartmentID INT\n",
    ");'''\n",
    "\n",
    "# DROP: The DROP statement is used to delete existing database objects, such as tables, indexes, or views. \n",
    "# It permanently removes the object and all associated data.\n",
    "\n",
    "# DROP TABLE Employees;\n",
    "\n",
    "# ALTER: The ALTER statement is used to modify the structure of an existing database object.\n",
    "# It can be used to add, modify, or drop columns, constraints, or other object attributes.\n",
    "\n",
    "'''ALTER TABLE Employees\n",
    "ADD Email VARCHAR(100);'''\n",
    "\n",
    "# TRUNCATE: The TRUNCATE statement is used to remove all data from a table but retains the table structure.\n",
    "# It is a faster alternative to DELETE when you want to empty a table.\n",
    "'''TRUNCATE TABLE Employees;\n",
    "'''"
   ]
  },
  {
   "cell_type": "markdown",
   "id": "24eb4e7a",
   "metadata": {},
   "source": [
    "# Q3. What is DML? Explain INSERT, UPDATE, and DELETE with an example."
   ]
  },
  {
   "cell_type": "code",
   "execution_count": null,
   "id": "3c5c8b17",
   "metadata": {},
   "outputs": [],
   "source": [
    "'''DML stands for Data Manipulation Language, which is a subset of SQL (Structured Query Language) used for manipulating data within a database. DML commands allow you to perform actions like inserting new data, updating existing data, and deleting data from database tables. Here's an explanation of three important DML commands with examples:\n",
    "\n",
    "1. INSERT: The INSERT statement is used to add new records (rows) to a table.\n",
    "\n",
    "   Example - Inserting Data into a Table:\n",
    "\n",
    "\n",
    "   INSERT INTO Customers (CustomerID, FirstName, LastName, Email)\n",
    "   VALUES (1, 'John', 'Doe', 'john.doe@example.com');\n",
    "\n",
    "   In this example, a new record is inserted into the \"Customers\" table with values for the \"CustomerID,\" \"FirstName,\" \"LastName,\" and \"Email\" columns.\n",
    "\n",
    "2. UPDATE: The UPDATE statement is used to modify existing data in a table.\n",
    "\n",
    "   Example - Updating Data in a Table:\n",
    "\n",
    "   \n",
    "   UPDATE Products\n",
    "   SET Price = 19.99\n",
    "   WHERE ProductID = 101;\n",
    "   \n",
    "\n",
    "   This command updates the \"Price\" of a product with a \"ProductID\" of 101 in the \"Products\" table. In this case, it sets the price to $19.99.\n",
    "\n",
    "3. DELETE: The DELETE statement is used to remove records from a table.\n",
    "\n",
    "   Example - Deleting Data from a Table:\n",
    "\n",
    "   \n",
    "   DELETE FROM Orders\n",
    "   WHERE OrderID = 12345;\n",
    "'''"
   ]
  },
  {
   "cell_type": "markdown",
   "id": "8f6b1706",
   "metadata": {},
   "source": [
    "# Q4. What is DQL? Explain SELECT with an example."
   ]
  },
  {
   "cell_type": "code",
   "execution_count": null,
   "id": "80cdf7aa",
   "metadata": {},
   "outputs": [],
   "source": [
    "\n",
    "#DQL stands for Data Query Language, which is a subset of SQL (Structured Query Language) used for querying and retrieving data from a database.\n",
    "#The primary DQL command is SELECT, which allows you to specify what data you want to retrieve from one or more database tables.\n",
    "\n",
    "#SELECT: The SELECT statement is used to retrieve data from one or more tables in a database. \n",
    "#It allows you to specify which columns you want to retrieve and filter the data based on various criteria.\n",
    "\n",
    "'''SELECT FirstName, LastName, Salary\n",
    "FROM Employees\n",
    "WHERE Department = 'Marketing' AND Salary > 50000;\n",
    "'''"
   ]
  },
  {
   "cell_type": "markdown",
   "id": "3e31527b",
   "metadata": {},
   "source": [
    "# Q5. Explain Primary Key and Foreign Key."
   ]
  },
  {
   "cell_type": "code",
   "execution_count": 1,
   "id": "0f93cbfe",
   "metadata": {},
   "outputs": [],
   "source": [
    "# Primary Key:\n",
    "\n",
    "# A primary key is a column or set of columns in a database table that uniquely identifies each row or record in that table.\n",
    "# It enforces the uniqueness constraint, meaning that no two rows in the table can have the same values in the primary key column(s).\n",
    "\n",
    "# Foreign Key:\n",
    "\n",
    "# A foreign key is a column or set of columns in one table that is used to establish a link between the data in two tables.\n",
    "# It creates a relationship between the tables, allowing you to reference rows in one table from another table.\n",
    "# The foreign key column(s) in one table typically matches the primary key column(s) of another table."
   ]
  },
  {
   "cell_type": "markdown",
   "id": "70cdaf96",
   "metadata": {},
   "source": [
    "# Q6. Write a python code to connect MySQL to python. Explain the cursor() and execute() method"
   ]
  },
  {
   "cell_type": "code",
   "execution_count": null,
   "id": "7471ab3b",
   "metadata": {},
   "outputs": [],
   "source": [
    "'''import mysql.connector\n",
    "\n",
    "# Establish a connection to the MySQL server\n",
    "connection = mysql.connector.connect(\n",
    "    host=\"localhost\",\n",
    "    user=\"your_username\",\n",
    "    password=\"your_password\",\n",
    "    database=\"your_database\"\n",
    ")\n",
    "\n",
    "# Create a cursor object\n",
    "cursor = connection.cursor()\n",
    "\n",
    "# SQL query to create a table\n",
    "create_table_query = \"\"\"\n",
    "CREATE TABLE IF NOT EXISTS users (\n",
    "    id INT AUTO_INCREMENT PRIMARY KEY,\n",
    "    username VARCHAR(255) NOT NULL,\n",
    "    email VARCHAR(255) NOT NULL\n",
    ")\n",
    "\"\"\"\n",
    "\n",
    "# Execute the SQL query to create the table\n",
    "cursor.execute(create_table_query)\n",
    "\n",
    "# SQL query to insert data into the table\n",
    "insert_data_query = \"\"\"\n",
    "INSERT INTO users (username, email) VALUES (%s, %s)\n",
    "\"\"\"\n",
    "\n",
    "# Data to be inserted\n",
    "user_data = (\"JohnDoe\", \"johndoe@example.com\")\n",
    "\n",
    "# Execute the SQL query to insert data\n",
    "cursor.execute(insert_data_query, user_data)\n",
    "\n",
    "# Commit the changes to the database\n",
    "connection.commit()\n",
    "\n",
    "# SQL query to retrieve data from the table\n",
    "select_data_query = \"SELECT * FROM users\"\n",
    "\n",
    "# Execute the SQL query to fetch data\n",
    "cursor.execute(select_data_query)\n",
    "\n",
    "# Fetch all rows\n",
    "result = cursor.fetchall()\n",
    "\n",
    "# Display the data\n",
    "for row in result:\n",
    "    print(row)\n",
    "\n",
    "# Close the cursor and the connection\n",
    "cursor.close()\n",
    "connection.close()\n",
    "'''"
   ]
  },
  {
   "cell_type": "markdown",
   "id": "de94048b",
   "metadata": {},
   "source": [
    "# Q7. Give the order of execution of SQL clauses in an SQL query."
   ]
  },
  {
   "cell_type": "code",
   "execution_count": null,
   "id": "d75a95af",
   "metadata": {},
   "outputs": [],
   "source": [
    "'''\n",
    "In an SQL query, the clauses are typically executed in the following order:\n",
    "\n",
    "1. **FROM**: The `FROM` clause specifies the table or tables from which data will be retrieved. It is the first clause to be executed, defining the source tables for the query.\n",
    "\n",
    "2. **WHERE**: The `WHERE` clause is used to filter the rows retrieved from the tables specified in the `FROM` clause. It is executed after the `FROM` clause, and it determines which rows meet the specified conditions.\n",
    "\n",
    "3. **GROUP BY**: The `GROUP BY` clause is used for grouping rows that have the same values in specified columns into summary rows. It is executed after the `WHERE` clause and before the `HAVING` clause.\n",
    "\n",
    "4. **HAVING**: The `HAVING` clause is used to filter the grouped rows produced by the `GROUP BY` clause based on aggregate functions (e.g., `SUM`, `COUNT`, `AVG`). It operates on the grouped data and is executed after the `GROUP BY` clause.\n",
    "\n",
    "5. **SELECT**: The `SELECT` clause specifies the columns or expressions to be included in the result set. It is executed after the previous clauses, and it determines which columns are displayed in the query results.\n",
    "\n",
    "6. **DISTINCT**: The `DISTINCT` keyword, when used in conjunction with the `SELECT` clause, eliminates duplicate rows from the result set. It operates on the result set produced by the previous clauses and is executed after the `SELECT` clause.\n",
    "\n",
    "7. **ORDER BY**: The `ORDER BY` clause is used to sort the result set based on one or more columns in ascending or descending order. It is executed after the previous clauses, including `SELECT`, and it determines the order in which the rows are presented in the output.\n",
    "\n",
    "8. **LIMIT/OFFSET (Optional)**: The `LIMIT` and `OFFSET` clauses are used to restrict the number of rows returned by the query and to skip a specified number of rows, respectively. They are executed after all other clauses and are often used for pagination or limiting the result set size.\n",
    "\n",
    "9. **UNION (Optional)**: The `UNION` operator is used to combine the result sets of two or more `SELECT` statements. It is executed after the individual `SELECT` statements.\n",
    "\n",
    "It's important to note that not all SQL queries will include every one of these clauses, and the specific order may vary depending on the query's requirements. Additionally, some database systems may optimize the order of execution based on query optimization techniques, so the actual execution order may not always match the written order of clauses in the query.\n",
    "'''"
   ]
  }
 ],
 "metadata": {
  "kernelspec": {
   "display_name": "Python 3 (ipykernel)",
   "language": "python",
   "name": "python3"
  },
  "language_info": {
   "codemirror_mode": {
    "name": "ipython",
    "version": 3
   },
   "file_extension": ".py",
   "mimetype": "text/x-python",
   "name": "python",
   "nbconvert_exporter": "python",
   "pygments_lexer": "ipython3",
   "version": "3.10.7"
  }
 },
 "nbformat": 4,
 "nbformat_minor": 5
}
