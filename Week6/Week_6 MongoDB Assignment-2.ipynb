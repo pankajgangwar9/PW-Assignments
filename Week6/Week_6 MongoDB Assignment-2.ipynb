{
 "cells": [
  {
   "cell_type": "markdown",
   "id": "93d2905e",
   "metadata": {},
   "source": [
    "# Q1. What is MongoDB? Explain non-relational databases in short. In which scenarios it is preferred to use MongoDB over SQL databases?"
   ]
  },
  {
   "cell_type": "markdown",
   "id": "e5387aef",
   "metadata": {},
   "source": [
    "**MongoDB** is a popular NoSQL (non-relational) database management system that stores data in a flexible, schema-less format known as BSON (Binary JSON). It is designed to handle large volumes of unstructured or semi-structured data, making it well-suited for certain types of applications and use cases. Here's a brief explanation of non-relational databases and when MongoDB is preferred over traditional SQL databases:\n",
    "\n",
    "**Non-Relational Databases (NoSQL):**\n",
    "\n",
    "- Non-relational databases, often referred to as NoSQL databases, are a category of database management systems that diverge from the traditional relational database model.\n",
    "- In contrast to SQL databases, which use structured tables with fixed schemas, NoSQL databases store data in more flexible formats, including key-value stores, document stores, column-family stores, and graph databases.\n",
    "- NoSQL databases are particularly useful when dealing with unstructured or semi-structured data, as they can adapt to changing data models and allow for more efficient and scalable storage and retrieval of data.\n",
    "- They are often used in scenarios where high availability, horizontal scalability, and fast reads/writes are critical, such as in web applications, real-time analytics, IoT data storage, and content management systems.\n",
    "\n",
    "**When to Use MongoDB Over SQL Databases:**\n",
    "- **Schema Flexibility**: MongoDB is schema-less, meaning you can store data without a predefined schema. This is beneficial when dealing with data that doesn't fit neatly into fixed tables or when the schema evolves frequently.\n",
    "\n",
    "- **Scalability**: MongoDB is designed for horizontal scalability, making it suitable for applications that need to handle large and growing datasets. It can distribute data across multiple servers to handle high loads.\n",
    "\n",
    "- **Semi-Structured Data**: MongoDB excels at handling semi-structured or JSON-like data. If your data is hierarchical or nested, MongoDB's document-oriented model is a natural fit.\n",
    "\n",
    "- **Real-time Applications**: MongoDB's ability to handle high write loads and provide low-latency reads makes it a good choice for real-time applications, such as social media platforms, gaming, and messaging apps.\n",
    "\n",
    "- **Geospatial Data**: MongoDB has built-in support for geospatial data, making it well-suited for location-based applications, mapping, and geospatial analysis.\n",
    "\n",
    "- **Agile Development**: MongoDB's flexibility and ease of use are advantageous in agile development environments where rapid development and frequent changes to data models are common.\n",
    "\n",
    "- **Complex Queries**: While MongoDB doesn't support complex SQL-style joins, it can handle complex queries through its aggregation framework. For some use cases, this can simplify querying.\n",
    "\n",
    "- **Unstructured Text Search**: MongoDB provides text indexing and search capabilities, making it suitable for applications that require full-text search functionality.\n",
    "\n",
    "It's important to note that the choice between MongoDB and SQL databases depends on the specific requirements of your application. SQL databases are still the best choice for applications with well-defined schemas and complex transactions. MongoDB and other NoSQL databases are most beneficial when dealing with the unique challenges posed by unstructured, rapidly changing, or highly scalable data."
   ]
  },
  {
   "cell_type": "markdown",
   "id": "0c1102ba",
   "metadata": {},
   "source": [
    "# Q2. State and Explain the features of MongoDB."
   ]
  },
  {
   "cell_type": "markdown",
   "id": "7163fff6",
   "metadata": {},
   "source": [
    "MongoDB is a popular NoSQL (non-relational) database management system known for its flexibility and scalability. Here are some of the key features of MongoDB along with explanations:\n",
    "\n",
    "Document-Oriented:\n",
    "\n",
    "MongoDB is a document-oriented database, meaning it stores data in JSON-like documents called BSON (Binary JSON).\n",
    "Each document can have a different structure, allowing for flexibility in data modeling without requiring a fixed schema.\n",
    "No Schema Constraints:\n",
    "\n",
    "MongoDB doesn't enforce a strict schema for your data. You can add or remove fields from documents without affecting others.\n",
    "This flexibility is particularly useful when dealing with evolving or semi-structured data.\n",
    "Highly Scalable:\n",
    "\n",
    "MongoDB supports horizontal scalability, allowing you to distribute data across multiple servers or nodes.\n",
    "This sharding capability makes MongoDB suitable for handling large datasets and high traffic loads.\n",
    "Automatic Sharding:\n",
    "\n",
    "MongoDB provides automatic sharding, which simplifies the process of distributing data across multiple servers.\n",
    "As your data grows, MongoDB can balance the data distribution to maintain performance.\n",
    "Rich Query Language:\n",
    "\n",
    "MongoDB offers a powerful query language that supports a wide range of queries, including filtering, sorting, and aggregation.\n",
    "It also supports geospatial queries and text searches."
   ]
  },
  {
   "cell_type": "markdown",
   "id": "350f02b1",
   "metadata": {},
   "source": [
    "# Q3. Write a code to connect MongoDB to Python. Also, create a database and a collection in MongoDB."
   ]
  },
  {
   "cell_type": "markdown",
   "id": "827d8c2f",
   "metadata": {},
   "source": [
    "import pymongo\n",
    "\n",
    "# MongoDB connection details\n",
    "mongo_host = \"localhost\"  # Replace with your MongoDB server hostname or IP address\n",
    "mongo_port = 27017  # MongoDB default port\n",
    "mongo_db_name = \"my_database\"  # Replace with your desired database name\n",
    "collection_name = \"my_collection\"  # Replace with your desired collection name\n",
    "\n",
    "# Connect to MongoDB server\n",
    "client = pymongo.MongoClient(mongo_host, mongo_port)\n",
    "\n",
    "# Create a new database or access an existing one\n",
    "db = client[mongo_db_name]\n",
    "\n",
    "# Create a new collection (table) or access an existing one\n",
    "collection = db[collection_name]\n",
    "\n",
    "# Insert a document (record) into the collection\n",
    "data_to_insert = {\n",
    "    \"name\": \"John Doe\",\n",
    "    \"email\": \"johndoe@example.com\",\n",
    "    \"age\": 30\n",
    "}\n",
    "\n",
    "# Insert the document into the collection\n",
    "insert_result = collection.insert_one(data_to_insert)\n",
    "\n",
    "# Check if the insertion was successful\n",
    "if insert_result.acknowledged:\n",
    "    print(\"Document inserted with ID:\", insert_result.inserted_id)\n",
    "else:\n",
    "    print(\"Document insertion failed\")\n",
    "\n",
    "# Close the MongoDB connection\n",
    "client.close()\n"
   ]
  },
  {
   "cell_type": "markdown",
   "id": "c2c516eb",
   "metadata": {},
   "source": [
    "# Q4. Using the database and the collection created in question number 3, write a code to insert one record, and insert many records. Use the find() and find_one() methods to print the inserted record."
   ]
  },
  {
   "cell_type": "code",
   "execution_count": null,
   "id": "4364ace5",
   "metadata": {},
   "outputs": [],
   "source": [
    "import pymongo\n",
    "\n",
    "# Connect to the MongoDB server\n",
    "client = pymongo.MongoClient(\"mongodb://localhost:27017/\")  # Change the connection string as needed\n",
    "\n",
    "# Create or select a database\n",
    "mydb = client[\"mydatabase\"]  # Change the database name as needed\n",
    "\n",
    "# Create or select a collection (similar to a table in SQL)\n",
    "mycollection = mydb[\"mycollection\"]  # Change the collection name as needed\n",
    "\n",
    "# Insert one record\n",
    "record_one = {\n",
    "    \"name\": \"John Doe\",\n",
    "    \"age\": 30,\n",
    "    \"city\": \"New York\"\n",
    "}\n",
    "\n",
    "# Insert the record into the collection\n",
    "inserted_record_one = mycollection.insert_one(record_one)\n",
    "print(\"Inserted Record One ID:\", inserted_record_one.inserted_id)\n",
    "\n",
    "# Insert multiple records\n",
    "records_many = [\n",
    "    {\n",
    "        \"name\": \"Alice Smith\",\n",
    "        \"age\": 25,\n",
    "        \"city\": \"San Francisco\"\n",
    "    },\n",
    "    {\n",
    "        \"name\": \"Bob Johnson\",\n",
    "        \"age\": 35,\n",
    "        \"city\": \"Los Angeles\"\n",
    "    },\n",
    "    {\n",
    "        \"name\": \"Eve Brown\",\n",
    "        \"age\": 28,\n",
    "        \"city\": \"Chicago\"\n",
    "    }\n",
    "]\n",
    "\n",
    "# Insert the records into the collection\n",
    "inserted_records_many = mycollection.insert_many(records_many)\n",
    "print(\"Inserted Records Many IDs:\", inserted_records_many.inserted_ids)\n",
    "\n",
    "# Find one record\n",
    "found_record = mycollection.find_one({\"name\": \"John Doe\"})\n",
    "print(\"Found Record One:\", found_record)\n",
    "\n",
    "# Find all records\n",
    "all_records = mycollection.find()\n",
    "print(\"All Records:\")\n",
    "for record in all_records:\n",
    "    print(record)\n",
    "\n",
    "# Close the MongoDB connection\n",
    "client.close()\n"
   ]
  },
  {
   "cell_type": "markdown",
   "id": "c00997a2",
   "metadata": {},
   "source": [
    "# Q5. Explain how you can use the find() method to query the MongoDB database. Write a simple code to demonstrate this."
   ]
  },
  {
   "cell_type": "markdown",
   "id": "bdad8641",
   "metadata": {},
   "source": [
    "# import pymongo\n",
    "\n",
    "# Connect to the MongoDB server\n",
    "client = pymongo.MongoClient(\"mongodb://localhost:27017/\")  # Change the connection string as needed\n",
    "\n",
    "# Create or select a database\n",
    "mydb = client[\"mydatabase\"]  # Change the database name as needed\n",
    "\n",
    "# Create or select a collection (similar to a table in SQL)\n",
    "mycollection = mydb[\"mycollection\"]  # Change the collection name as needed\n",
    "\n",
    "# Define a filter criteria\n",
    "filter_criteria = {\"age\": {\"$gte\": 25}}  # Find documents where the \"age\" field is greater than or equal to 25\n",
    "\n",
    "# Use the find() method with the filter criteria\n",
    "result = mycollection.find(filter_criteria)\n",
    "\n",
    "# Iterate through the cursor and print the documents\n",
    "for document in result:\n",
    "    print(document)\n",
    "\n",
    "# Close the MongoDB connection\n",
    "client.close()\n"
   ]
  },
  {
   "cell_type": "markdown",
   "id": "e9238d29",
   "metadata": {},
   "source": [
    "# Q6. Explain the sort() method. Give an example to demonstrate sorting in MongoDB."
   ]
  },
  {
   "cell_type": "markdown",
   "id": "6dab07a8",
   "metadata": {},
   "source": [
    "The sort() method in MongoDB is used to sort the documents (records) in a collection based on one or more fields. It allows you to specify the sorting order, which can be either ascending (1) or descending (-1), for each field by which you want to sort the documents. This method is often used in conjunction with the find() method to retrieve sorted results from a collection."
   ]
  },
  {
   "cell_type": "raw",
   "id": "a54e4865",
   "metadata": {},
   "source": [
    "import pymongo\n",
    "\n",
    "# Connect to the MongoDB server\n",
    "client = pymongo.MongoClient(\"mongodb://localhost:27017/\")  # Change the connection string as needed\n",
    "\n",
    "# Select the \"students\" collection\n",
    "students_collection = client[\"mydatabase\"][\"students\"]  # Change the database and collection name as needed\n",
    "\n",
    "# Sort the documents by the \"score\" field in descending order\n",
    "sorted_students = students_collection.find().sort(\"score\", -1)\n",
    "\n",
    "# Iterate through the sorted documents and print them\n",
    "for student in sorted_students:\n",
    "    print(student)\n",
    "\n",
    "# Close the MongoDB connection\n",
    "client.close()\n"
   ]
  },
  {
   "cell_type": "markdown",
   "id": "060160d3",
   "metadata": {},
   "source": [
    "# Q7. Explain why delete_one(), delete_many(), and drop() is used."
   ]
  },
  {
   "cell_type": "markdown",
   "id": "68e67595",
   "metadata": {},
   "source": [
    "delete_one(), delete_many(), and drop() are methods that can be used to remove documents or collections from a MongoDB database. They have different purposes and effects, depending on the situation.\n",
    "\n",
    "- delete_one() is used to delete a single document that matches a given filter query. For example, if you want to delete a document with the name \"John\" from a collection called \"users\", you can use delete_one({\"name\": \"John\"})⁴. This method will only delete the first document that matches the query, and will return a result object that contains information about the deletion, such as the number of deleted documents and the write concern⁴.\n",
    "\n",
    "- delete_many() is used to delete all documents that match a given filter query. For example, if you want to delete all documents with the age greater than 30 from a collection called \"users\", you can use delete_many({\"age\": {\"$gt\": 30}})². This method will delete all documents that match the query, and will return a result object that contains information about the deletion, such as the number of deleted documents and the write concern².\n",
    "\n",
    "- drop() is used to delete an entire collection or database from MongoDB. For example, if you want to delete a collection called \"users\", you can use db.users.drop()¹. This method will remove the collection and all its indexes from the database, and will return true if the operation is successful or false if the collection does not exist¹. To delete a database, you can use db.dropDatabase()¹, which will drop the current database and all its collections¹.\n",
    "\n",
    "The main difference between these methods is the scope of deletion. delete_one() and delete_many() are used to remove specific documents based on a filter query, while drop() is used to remove entire collections or databases without any filter. Therefore, drop() is more destructive and irreversible than delete_one() or delete_many(), and should be used with caution."
   ]
  }
 ],
 "metadata": {
  "kernelspec": {
   "display_name": "Python 3 (ipykernel)",
   "language": "python",
   "name": "python3"
  },
  "language_info": {
   "codemirror_mode": {
    "name": "ipython",
    "version": 3
   },
   "file_extension": ".py",
   "mimetype": "text/x-python",
   "name": "python",
   "nbconvert_exporter": "python",
   "pygments_lexer": "ipython3",
   "version": "3.10.7"
  }
 },
 "nbformat": 4,
 "nbformat_minor": 5
}
