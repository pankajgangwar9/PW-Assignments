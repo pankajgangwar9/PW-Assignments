{
 "cells": [
  {
   "cell_type": "markdown",
   "id": "5099d03c",
   "metadata": {},
   "source": [
    "# Q1. What is an Exception in python?  Write the difference between Exceptions and Syntax errors."
   ]
  },
  {
   "cell_type": "markdown",
   "id": "5d5c6892",
   "metadata": {},
   "source": [
    "Exception:-\n",
    "    \n",
    "    In Python, an exception is an unexpected or abnormal event that occurs during the execution of a program. When an exception occurs, the normal flow of a program is disrupted, and Python raises an exception object to handle the error. Exceptions can be caused by various reasons, such as invalid input, file not found, division by zero, or any other situation that leads to a runtime error."
   ]
  },
  {
   "cell_type": "markdown",
   "id": "4b03215f",
   "metadata": {},
   "source": [
    "\n",
    "Here are the key differences between exceptions and syntax errors in Python:\n",
    "\n",
    "Nature of Error:-\n",
    "    \n",
    "    1. Exception: Exceptions are runtime errors that occur during the execution of a program when a valid Python statement or operation encounters an issue that prevents it from completing successfully. These issues are often related to data or external factors.\n",
    "    \n",
    "    2. Syntax Error: Syntax errors occur at compile time (before the program runs) and are caused by invalid Python code that doesn't follow the language's grammar rules. These errors are usually related to typos, incorrect indentation, missing colons, or other syntax-related issues.\n",
    "\n",
    "Timing of Detection:-\n",
    "    \n",
    "    1. Exception: Exceptional errors are detected at runtime when the specific problematic code is executed. This means they can occur in code paths that are not executed unless certain conditions are met.\n",
    "    \n",
    "    2. Syntax Error: Syntax errors are detected by the Python interpreter during the compilation phase before the program is executed. They prevent the program from running at all until the syntax issues are fixed.\n",
    "\n",
    "Handling:\n",
    "\n",
    "    1. Exception: Exceptions can be handled using try-except blocks. You can write code to catch and gracefully handle exceptions, allowing the program to continue running despite encountering errors.\n",
    "    \n",
    "    2. Syntax Error: Syntax errors cannot be caught or handled during runtime because they prevent the program from being executed in the first place. They must be fixed in the source code."
   ]
  },
  {
   "cell_type": "code",
   "execution_count": 2,
   "id": "cd0a1358",
   "metadata": {},
   "outputs": [
    {
     "name": "stdout",
     "output_type": "stream",
     "text": [
      "An error occurred: division by zero\n"
     ]
    }
   ],
   "source": [
    "# Exception Example:\n",
    "try:\n",
    "    x = 10 / 0  # Division by zero exception\n",
    "except ZeroDivisionError as e:\n",
    "    print(\"An error occurred:\", e)"
   ]
  },
  {
   "cell_type": "code",
   "execution_count": 3,
   "id": "41ceea0a",
   "metadata": {},
   "outputs": [
    {
     "ename": "SyntaxError",
     "evalue": "invalid syntax. Maybe you meant '==' or ':=' instead of '='? (738721952.py, line 2)",
     "output_type": "error",
     "traceback": [
      "\u001b[1;36m  Cell \u001b[1;32mIn[3], line 2\u001b[1;36m\u001b[0m\n\u001b[1;33m    if x = 5:  # Syntax error, should use '==' instead of '='\u001b[0m\n\u001b[1;37m       ^\u001b[0m\n\u001b[1;31mSyntaxError\u001b[0m\u001b[1;31m:\u001b[0m invalid syntax. Maybe you meant '==' or ':=' instead of '='?\n"
     ]
    }
   ],
   "source": [
    "# Syntax Error Example:\n",
    "if x = 5:  # Syntax error, should use '==' instead of '='\n",
    "    print(\"x is 5\")"
   ]
  },
  {
   "cell_type": "markdown",
   "id": "ffbf0431",
   "metadata": {},
   "source": [
    "# Q2. What happens when an exception is not handled? Explain with an example."
   ]
  },
  {
   "cell_type": "markdown",
   "id": "3d4f840f",
   "metadata": {},
   "source": [
    "When an exception is not handled in Python, it will propagate up the call stack until it either reaches an appropriate exception handler (a try-except block that can catch the specific exception type) or, if it remains unhandled, it will terminate the program's execution abruptly. This means that the program will stop running, and the Python interpreter will display an error message traceback, indicating the type of exception that occurred and where it occurred in the code."
   ]
  },
  {
   "cell_type": "code",
   "execution_count": 4,
   "id": "7ba5d113",
   "metadata": {},
   "outputs": [
    {
     "ename": "ZeroDivisionError",
     "evalue": "division by zero",
     "output_type": "error",
     "traceback": [
      "\u001b[1;31m---------------------------------------------------------------------------\u001b[0m",
      "\u001b[1;31mZeroDivisionError\u001b[0m                         Traceback (most recent call last)",
      "Cell \u001b[1;32mIn[4], line 5\u001b[0m\n\u001b[0;32m      2\u001b[0m \u001b[38;5;28;01mdef\u001b[39;00m \u001b[38;5;21mdivide\u001b[39m(a, b):\n\u001b[0;32m      3\u001b[0m     \u001b[38;5;28;01mreturn\u001b[39;00m a \u001b[38;5;241m/\u001b[39m b\n\u001b[1;32m----> 5\u001b[0m result \u001b[38;5;241m=\u001b[39m \u001b[43mdivide\u001b[49m\u001b[43m(\u001b[49m\u001b[38;5;241;43m10\u001b[39;49m\u001b[43m,\u001b[49m\u001b[43m \u001b[49m\u001b[38;5;241;43m0\u001b[39;49m\u001b[43m)\u001b[49m  \u001b[38;5;66;03m# This will raise a ZeroDivisionError\u001b[39;00m\n\u001b[0;32m      6\u001b[0m \u001b[38;5;28mprint\u001b[39m(\u001b[38;5;124m\"\u001b[39m\u001b[38;5;124mResult:\u001b[39m\u001b[38;5;124m\"\u001b[39m, result)\n",
      "Cell \u001b[1;32mIn[4], line 3\u001b[0m, in \u001b[0;36mdivide\u001b[1;34m(a, b)\u001b[0m\n\u001b[0;32m      2\u001b[0m \u001b[38;5;28;01mdef\u001b[39;00m \u001b[38;5;21mdivide\u001b[39m(a, b):\n\u001b[1;32m----> 3\u001b[0m     \u001b[38;5;28;01mreturn\u001b[39;00m \u001b[43ma\u001b[49m\u001b[43m \u001b[49m\u001b[38;5;241;43m/\u001b[39;49m\u001b[43m \u001b[49m\u001b[43mb\u001b[49m\n",
      "\u001b[1;31mZeroDivisionError\u001b[0m: division by zero"
     ]
    }
   ],
   "source": [
    "## Here's an example to illustrate what happens when an exception is not handled:\n",
    "def divide(a, b):\n",
    "    return a / b\n",
    "\n",
    "result = divide(10, 0)  # This will raise a ZeroDivisionError\n",
    "print(\"Result:\", result)"
   ]
  },
  {
   "cell_type": "markdown",
   "id": "53b08a0d",
   "metadata": {},
   "source": [
    "In this example, we have a divide function that attempts to perform a division operation. When we call divide(10, 0), it tries to divide 10 by 0, which is not allowed in mathematics, and it raises a ZeroDivisionError exception. Since there is no try-except block to catch this exception, it propagates up the call stack to the top level of the program."
   ]
  },
  {
   "cell_type": "raw",
   "id": "ed32be7d",
   "metadata": {},
   "source": [
    "To handle exceptions and avoid program termination, you can use a try-except block to catch the specific exception and handle it gracefully, like this:"
   ]
  },
  {
   "cell_type": "code",
   "execution_count": 5,
   "id": "4d8715a3",
   "metadata": {},
   "outputs": [
    {
     "name": "stdout",
     "output_type": "stream",
     "text": [
      "An error occurred: division by zero\n",
      "Division by zero was handled gracefully.\n"
     ]
    }
   ],
   "source": [
    "def divide(a, b):\n",
    "    try:\n",
    "        return a / b\n",
    "    except ZeroDivisionError as e:\n",
    "        print(\"An error occurred:\", e)\n",
    "        return None\n",
    "\n",
    "result = divide(10, 0)\n",
    "if result is not None:\n",
    "    print(\"Result:\", result)\n",
    "else:\n",
    "    print(\"Division by zero was handled gracefully.\")"
   ]
  },
  {
   "cell_type": "markdown",
   "id": "2ccdbce4",
   "metadata": {},
   "source": [
    "# Q3. Which Python statements are used to catch and handle exceptions? Explain with an example."
   ]
  },
  {
   "cell_type": "markdown",
   "id": "e561628a",
   "metadata": {},
   "source": [
    "In Python, you can catch and handle exceptions using try and except statements. The try block contains the code that might raise an exception, and the except block is used to specify how to handle the exception if it occurs. Here's the basic syntax:"
   ]
  },
  {
   "cell_type": "raw",
   "id": "e7c4feb1",
   "metadata": {},
   "source": [
    "try:\n",
    "    # Code that may raise an exception\n",
    "except ExceptionType as e:\n",
    "    # Code to handle the exception"
   ]
  },
  {
   "cell_type": "markdown",
   "id": "b4159197",
   "metadata": {},
   "source": [
    "Here's an example that demonstrates how to use try and except statements to catch and handle an exception:"
   ]
  },
  {
   "cell_type": "code",
   "execution_count": 7,
   "id": "fdf8a975",
   "metadata": {},
   "outputs": [
    {
     "name": "stdout",
     "output_type": "stream",
     "text": [
      "Error: division by zero\n",
      "Division by zero was handled gracefully.\n"
     ]
    }
   ],
   "source": [
    "def divide(a, b):\n",
    "    try:\n",
    "        result = a / b  # Attempt to perform division\n",
    "        return result\n",
    "    except ZeroDivisionError as e:\n",
    "        print(\"Error:\", e)\n",
    "        return None\n",
    "\n",
    "# Example usage:\n",
    "numerator = 10\n",
    "denominator = 0\n",
    "\n",
    "result = divide(numerator, denominator)\n",
    "\n",
    "if result is not None:\n",
    "    print(\"Result:\", result)\n",
    "else:\n",
    "    print(\"Division by zero was handled gracefully.\")"
   ]
  },
  {
   "cell_type": "markdown",
   "id": "7559762e",
   "metadata": {},
   "source": [
    "In this example:-\n",
    "    \n",
    "    1. The try block contains the code that may raise an exception, which is division by zero in this case.\n",
    "    \n",
    "    2. The except ZeroDivisionError as e: block specifies the type of exception (ZeroDivisionError) that we want to catch. If a ZeroDivisionError occurs within the try block, Python will execute the code in this except block.\n",
    "    \n",
    "    3. Inside the except block, we print an error message (\"Error:\" followed by the exception message e) and return None to indicate that an error occurred."
   ]
  },
  {
   "cell_type": "markdown",
   "id": "fe5b96b8",
   "metadata": {},
   "source": [
    "# Q4. Explain with an example:"
   ]
  },
  {
   "cell_type": "markdown",
   "id": "8aeade41",
   "metadata": {},
   "source": [
    "# a. try and else"
   ]
  },
  {
   "cell_type": "markdown",
   "id": "4940dc12",
   "metadata": {},
   "source": [
    "The try and else blocks are used together to handle exceptions and specify a block of code that should run if no exceptions occur within the try block.\n",
    "\n",
    "Here's an example:"
   ]
  },
  {
   "cell_type": "code",
   "execution_count": 8,
   "id": "41f87dec",
   "metadata": {},
   "outputs": [
    {
     "name": "stdout",
     "output_type": "stream",
     "text": [
      "Enter a number: 0\n",
      "Division by zero is not allowed.\n"
     ]
    }
   ],
   "source": [
    "try:\n",
    "    num = int(input(\"Enter a number: \"))\n",
    "    result = 10 / num\n",
    "except ValueError:\n",
    "    print(\"Invalid input. Please enter a valid number.\")\n",
    "except ZeroDivisionError:\n",
    "    print(\"Division by zero is not allowed.\")\n",
    "else:\n",
    "    print(\"Result:\", result)"
   ]
  },
  {
   "cell_type": "markdown",
   "id": "f60d0789",
   "metadata": {},
   "source": [
    "In this example:-\n",
    "    \n",
    "    1. The try block attempts to read an integer from the user and perform a division operation.\n",
    "    \n",
    "    2. If a ValueError (invalid input) or ZeroDivisionError (division by zero) occurs, it will be caught and the corresponding error message will be printed.\n",
    "    \n",
    "    3. If no exceptions occur, the else block will be executed, and it will print the result of the division."
   ]
  },
  {
   "cell_type": "markdown",
   "id": "5aab1322",
   "metadata": {},
   "source": [
    "# b. finally"
   ]
  },
  {
   "cell_type": "markdown",
   "id": "6eed8842",
   "metadata": {},
   "source": [
    "The finally block is used to specify a block of code that will be executed regardless of whether an exception occurs or not. It's often used for cleanup operations or tasks that should always be performed.\n",
    "\n",
    "Example:"
   ]
  },
  {
   "cell_type": "code",
   "execution_count": 10,
   "id": "d96e1e50",
   "metadata": {},
   "outputs": [
    {
     "name": "stdout",
     "output_type": "stream",
     "text": [
      "File not found.\n"
     ]
    }
   ],
   "source": [
    "try:\n",
    "    file = open(\"example.txt\", \"r\")\n",
    "    content = file.read()\n",
    "except FileNotFoundError:\n",
    "    print(\"File not found.\")\n",
    "else:\n",
    "    print(\"File content:\", content)\n",
    "finally:\n",
    "    if 'file' in locals():\n",
    "        file.close()  # Always close the file, even if an exception occurs"
   ]
  },
  {
   "cell_type": "markdown",
   "id": "2fec3dd5",
   "metadata": {},
   "source": [
    "In this example:-\n",
    "    \n",
    "    1. We try to open a file for reading and read its content.\n",
    "    2. If a FileNotFoundError occurs (file not found), an error message is printed.\n",
    "    3. If no exception occurs, the file content is printed.\n",
    "    4. The finally block ensures that the file is closed, even if an exception occurs or not."
   ]
  },
  {
   "cell_type": "markdown",
   "id": "47fcb977",
   "metadata": {},
   "source": [
    "# c. raise"
   ]
  },
  {
   "cell_type": "markdown",
   "id": "24e514b2",
   "metadata": {},
   "source": [
    "The raise statement is used to explicitly raise an exception in your code. You can use it when you want to create and throw a custom exception at a specific point in your program.\n",
    "\n",
    "Example:"
   ]
  },
  {
   "cell_type": "code",
   "execution_count": 13,
   "id": "4fb300e7",
   "metadata": {},
   "outputs": [
    {
     "name": "stdout",
     "output_type": "stream",
     "text": [
      "Enter your age: -20\n",
      "Invalid input: Age cannot be negative.\n"
     ]
    }
   ],
   "source": [
    "def validate_age(age):\n",
    "    if age < 0:\n",
    "        raise ValueError(\"Age cannot be negative.\")\n",
    "\n",
    "try:\n",
    "    user_age = int(input(\"Enter your age: \"))\n",
    "    validate_age(user_age)\n",
    "except ValueError as e:\n",
    "    print(\"Invalid input:\", e)\n",
    "else:\n",
    "    print(\"Age is valid:\", user_age)"
   ]
  },
  {
   "cell_type": "markdown",
   "id": "cc9a7bb2",
   "metadata": {},
   "source": [
    "In this example:-\n",
    "    \n",
    "    1. The validate_age function is defined to check if an age is negative. If it's negative, a ValueError with a custom error message is raised.\n",
    "    \n",
    "    2. In the try block, we read the user's age and call validate_age to check if it's valid.\n",
    "    \n",
    "    3. If a ValueError is raised within the validate_age function, it's caught in the except block, and an error message is printed.\n",
    "    \n",
    "    4. If no exception occurs, the age is considered valid, and a message indicating this is printed."
   ]
  },
  {
   "cell_type": "markdown",
   "id": "2d281199",
   "metadata": {},
   "source": [
    "# Q5. What are Custom Exceptions in python? Why do we need Custom Exceptions? Explain with an example."
   ]
  },
  {
   "cell_type": "markdown",
   "id": "b115501e",
   "metadata": {},
   "source": [
    "Custom Exceptions:-\n",
    "    \n",
    "    In Python, custom exceptions, also known as user-defined exceptions, are exceptions that you define yourself to address specific error conditions in your code. These exceptions extend the built-in exception classes and allow you to create more meaningful and specific error messages for your application. Custom exceptions are useful for improving code readability, maintainability, and debugging, as they make it clear why a particular error occurred and help you handle it appropriately."
   ]
  },
  {
   "cell_type": "markdown",
   "id": "3aedc0a9",
   "metadata": {},
   "source": [
    "why we might need custom exceptions:-\n",
    "    \n",
    "    1. Clarity and Documentation: Custom exceptions provide clear and descriptive error messages, making it easier for developers (including yourself and others) to understand why a particular error occurred. They act as a form of documentation for how your code handles different error scenarios.\n",
    "\n",
    "    2. Error Categorization: By defining custom exceptions, you can categorize and organize errors based on their nature. This helps in handling different types of errors differently, allowing for more precise and targeted error handling.\n",
    "\n",
    "    3. Modularization: Custom exceptions can be defined within specific modules or classes, making it easier to manage and handle errors specific to those modules or classes.\n",
    "\n",
    "    4. Customized Handling: You can implement custom error-handling logic for each custom exception, tailoring the response to the specific error situation.\n",
    "\n",
    "an example of creating and using a custom exception:-"
   ]
  },
  {
   "cell_type": "code",
   "execution_count": 15,
   "id": "7657fcc8",
   "metadata": {},
   "outputs": [
    {
     "name": "stdout",
     "output_type": "stream",
     "text": [
      "Enter a number: -5\n",
      "Error: Input value cannot be negative.\n"
     ]
    }
   ],
   "source": [
    "class CustomValueError(ValueError):\n",
    "    \"\"\"Custom exception for invalid values.\"\"\"\n",
    "\n",
    "def process_input(value):\n",
    "    if value < 0:\n",
    "        raise CustomValueError(\"Input value cannot be negative.\")\n",
    "\n",
    "try:\n",
    "    user_input = int(input(\"Enter a number: \"))\n",
    "    process_input(user_input)\n",
    "except CustomValueError as e:\n",
    "    print(\"Error:\", e)\n",
    "else:\n",
    "    print(\"Value is valid:\", user_input)"
   ]
  },
  {
   "cell_type": "markdown",
   "id": "867fe1b8",
   "metadata": {},
   "source": [
    "In this example:-\n",
    "    \n",
    "    1. We define a custom exception CustomValueError, which is a subclass of the built-in ValueError. We provide a docstring to describe the purpose of this custom exception.\n",
    "\n",
    "    2. The process_input function checks if a given value is negative. If it is, it raises the CustomValueError exception with a descriptive error message.\n",
    "\n",
    "    3. In the try block, we read a user input value and call process_input to validate it. If a negative value is entered, the custom exception is raised.\n",
    "\n",
    "    4. In the except CustomValueError as e block, we catch the custom exception, and the error message is printed, indicating why the input is invalid."
   ]
  },
  {
   "cell_type": "markdown",
   "id": "2bbd2a03",
   "metadata": {},
   "source": [
    "# Q6. Create a custom exception class. Use this class to handle an exception."
   ]
  },
  {
   "cell_type": "code",
   "execution_count": 16,
   "id": "502a7fdc",
   "metadata": {},
   "outputs": [
    {
     "name": "stdout",
     "output_type": "stream",
     "text": [
      "Enter your email address: example@gmail\n",
      "Email address is valid: example@gmail\n"
     ]
    }
   ],
   "source": [
    "class InvalidEmailError(Exception):\n",
    "    \"\"\"Custom exception for invalid email addresses.\"\"\"\n",
    "    def __init__(self, email, message=\"Invalid email address format.\"):\n",
    "        super().__init__(message)\n",
    "        self.email = email\n",
    "\n",
    "def validate_email(email):\n",
    "    if \"@\" not in email:\n",
    "        raise InvalidEmailError(email)\n",
    "\n",
    "try:\n",
    "    user_email = input(\"Enter your email address: \")\n",
    "    validate_email(user_email)\n",
    "except InvalidEmailError as e:\n",
    "    print(\"Error:\", e)\n",
    "else:\n",
    "    print(\"Email address is valid:\", user_email)"
   ]
  },
  {
   "cell_type": "markdown",
   "id": "ae95a2f5",
   "metadata": {},
   "source": [
    "In this example:-\n",
    "    \n",
    "    1. We define a custom exception class called InvalidEmailError, which inherits from the built-in Exception class. This custom exception includes an __init__ method to allow us to provide a custom error message and store the invalid email address that caused the error.\n",
    "\n",
    "    2. The validate_email function checks if the email address provided as input contains the \"@\" symbol. If it doesn't, it raises the InvalidEmailError exception, passing the invalid email address as an argument.\n",
    "\n",
    "    3. In the try block, we read a user-provided email address and call validate_email to check if it's valid. If the email address is invalid (lacking \"@\"), the custom exception is raised.\n",
    "\n",
    "    4. In the except InvalidEmailError as e block, we catch the custom exception and access the stored email address (e.email) and error message. We print an error message indicating the specific problem with the email address.\n",
    "\n",
    "    5. If no exception occurs, the program prints that the email address is valid."
   ]
  }
 ],
 "metadata": {
  "kernelspec": {
   "display_name": "Python 3 (ipykernel)",
   "language": "python",
   "name": "python3"
  },
  "language_info": {
   "codemirror_mode": {
    "name": "ipython",
    "version": 3
   },
   "file_extension": ".py",
   "mimetype": "text/x-python",
   "name": "python",
   "nbconvert_exporter": "python",
   "pygments_lexer": "ipython3",
   "version": "3.10.9"
  }
 },
 "nbformat": 4,
 "nbformat_minor": 5
}
