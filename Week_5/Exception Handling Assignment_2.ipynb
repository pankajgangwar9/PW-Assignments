{
 "cells": [
  {
   "cell_type": "markdown",
   "id": "a153702e",
   "metadata": {},
   "source": [
    "# Q1. Explain why we have to use the Exception class while creating a Custom Exception."
   ]
  },
  {
   "cell_type": "markdown",
   "id": "f8bedccb",
   "metadata": {},
   "source": [
    "When creating a custom exception in a programming language like Python or Java, it's important to use the Exception class (or a subclass of it) as the base class for your custom exception. Here's why:"
   ]
  },
  {
   "cell_type": "markdown",
   "id": "ed26cac3",
   "metadata": {},
   "source": [
    "Inheritance from the Exception Class:-\n",
    "    \n",
    "    1. The Exception class (or a subclass of it) provides a structured and standardized way to create custom exceptions. It's part of the built-in exception hierarchy in many programming languages.\n",
    "    \n",
    "    2. By inheriting from the Exception class, your custom exception becomes part of this hierarchy, which makes it easier for developers to understand and use your custom exception. It's clear that your exception is intended for handling exceptional situations in code.\n",
    "\n",
    "Consistency and Clarity:-\n",
    "    \n",
    "    1. When you create a custom exception by subclassing the Exception class, you follow a convention that other developers are likely to recognize. This makes your code more maintainable and understandable for others who might read or work with it.\n",
    "    \n",
    "    2. Using the Exception class ensures that your custom exception behaves consistently with other exceptions in the language, such as being catchable using standard try-catch or try-except blocks.\n",
    "\n",
    "Error Handling:-\n",
    "    \n",
    "    1. Custom exceptions are typically raised in response to specific error conditions in your code. By using the Exception class, you provide a clear and consistent way for error-handling code to identify and respond to your custom exception.\n",
    "    \n",
    "    2. Error-handling mechanisms in the language, like catch blocks or except blocks, are designed to work with exceptions that are part of the standard exception hierarchy, including those derived from the Exception class.\n",
    "\n",
    "Documentation and Self-Documentation:- \n",
    "    \n",
    "    1. When you create a custom exception by subclassing Exception, you implicitly document its purpose. It's easier for developers to understand the intent of your custom exception by looking at its inheritance hierarchy.\n",
    "    \n",
    "    2. Good documentation and self-explanatory code are essential for maintainability and collaboration in software development."
   ]
  },
  {
   "cell_type": "markdown",
   "id": "9ba7de5a",
   "metadata": {},
   "source": [
    "# Q2. Write a python program to print Python Exception Hierarchy. "
   ]
  },
  {
   "cell_type": "code",
   "execution_count": 2,
   "id": "a33133cb",
   "metadata": {},
   "outputs": [
    {
     "name": "stdout",
     "output_type": "stream",
     "text": [
      "Exception\n",
      "    BaseException\n",
      "        object\n"
     ]
    }
   ],
   "source": [
    "def print_exception_hierarchy(exception_class, indent=0):\n",
    "    # Print the class name with indentation\n",
    "    print(\" \" * indent + exception_class.__name__)\n",
    "\n",
    "    # Recursively print the base classes\n",
    "    for base_class in exception_class.__bases__:\n",
    "        print_exception_hierarchy(base_class, indent + 4)\n",
    "\n",
    "# Start from the top-level Exception class\n",
    "print_exception_hierarchy(Exception)"
   ]
  },
  {
   "cell_type": "markdown",
   "id": "af34a49f",
   "metadata": {},
   "source": [
    "# Q3. What errors are defined in the ArithmeticError class? Explain any two with an example."
   ]
  },
  {
   "cell_type": "markdown",
   "id": "d9d2969d",
   "metadata": {},
   "source": [
    "The ArithmeticError class is a base class for various arithmetic-related exceptions in Python. It serves as a superclass for exceptions that occur during arithmetic operations. Two common exceptions derived from ArithmeticError are ZeroDivisionError and OverflowError. Let's explain these two exceptions with examples:"
   ]
  },
  {
   "cell_type": "markdown",
   "id": "d0a0acb9",
   "metadata": {},
   "source": [
    "ZeroDivisionError:-\n",
    "    \n",
    "    1. This exception is raised when you attempt to divide a number by zero, which is mathematically undefined.\n",
    "\n",
    "    2. Example:"
   ]
  },
  {
   "cell_type": "code",
   "execution_count": 3,
   "id": "b751367f",
   "metadata": {},
   "outputs": [
    {
     "name": "stdout",
     "output_type": "stream",
     "text": [
      "Error: division by zero\n"
     ]
    }
   ],
   "source": [
    "dividend = 10\n",
    "divisor = 0\n",
    "\n",
    "try:\n",
    "    result = dividend / divisor\n",
    "except ZeroDivisionError as e:\n",
    "    print(f\"Error: {e}\")\n",
    "else:\n",
    "    print(f\"Result: {result}\")"
   ]
  },
  {
   "cell_type": "markdown",
   "id": "53218fa5",
   "metadata": {},
   "source": [
    "OverflowError:-\n",
    "    \n",
    "    1. This exception is raised when an arithmetic operation exceeds the limits of the data type being used. For example, it can occur when you try to store a value that is too large to fit within the range of the data type.\n",
    "\n",
    "    2. Example:"
   ]
  },
  {
   "cell_type": "code",
   "execution_count": 4,
   "id": "e0a37bd6",
   "metadata": {},
   "outputs": [
    {
     "name": "stdout",
     "output_type": "stream",
     "text": [
      "Value: 9223372036854775808\n"
     ]
    }
   ],
   "source": [
    "import sys\n",
    "\n",
    "max_int = sys.maxsize  # Get the maximum integer value for the current system\n",
    "\n",
    "try:\n",
    "    overflowed_value = max_int + 1\n",
    "except OverflowError as e:\n",
    "    print(f\"Error: {e}\")\n",
    "else:\n",
    "    print(f\"Value: {overflowed_value}\")"
   ]
  },
  {
   "cell_type": "markdown",
   "id": "9c3de108",
   "metadata": {},
   "source": [
    "# Q4. Why LookupError class is used? Explain with an example KeyError and IndexError."
   ]
  },
  {
   "cell_type": "markdown",
   "id": "92383eb9",
   "metadata": {},
   "source": [
    "The LookupError class is a base class for exceptions that involve lookup operations, particularly indexing or key-based access in sequences and dictionaries. It serves as a superclass for several specific lookup-related exceptions, including KeyError and IndexError. Let's explain KeyError and IndexError with examples:"
   ]
  },
  {
   "cell_type": "markdown",
   "id": "d00569c8",
   "metadata": {},
   "source": [
    "KeyError:-\n",
    "    \n",
    "    1. KeyError is raised when you try to access a dictionary using a key that does not exist in the dictionary.\n",
    "\n",
    "    2. Example"
   ]
  },
  {
   "cell_type": "code",
   "execution_count": 5,
   "id": "cff6519b",
   "metadata": {},
   "outputs": [
    {
     "name": "stdout",
     "output_type": "stream",
     "text": [
      "Error: 'city'\n"
     ]
    }
   ],
   "source": [
    "my_dict = {'name': 'John', 'age': 30}\n",
    "\n",
    "try:\n",
    "    value = my_dict['city']\n",
    "except KeyError as e:\n",
    "    print(f\"Error: {e}\")\n",
    "else:\n",
    "    print(f\"Value: {value}\")"
   ]
  },
  {
   "cell_type": "markdown",
   "id": "a5162402",
   "metadata": {},
   "source": [
    "IndexError:-\n",
    "    \n",
    "    1. IndexError is raised when you try to access a sequence (such as a list or tuple) using an index that is out of range.\n",
    "\n",
    "    2. Example:"
   ]
  },
  {
   "cell_type": "code",
   "execution_count": 6,
   "id": "70cf3bcf",
   "metadata": {},
   "outputs": [
    {
     "name": "stdout",
     "output_type": "stream",
     "text": [
      "Error: list index out of range\n"
     ]
    }
   ],
   "source": [
    "my_list = [10, 20, 30]\n",
    "\n",
    "try:\n",
    "    value = my_list[5]\n",
    "except IndexError as e:\n",
    "    print(f\"Error: {e}\")\n",
    "else:\n",
    "    print(f\"Value: {value}\")"
   ]
  },
  {
   "cell_type": "markdown",
   "id": "ce0b9d98",
   "metadata": {},
   "source": [
    "# Q5. Explain ImportError. What is ModuleNotFoundError?"
   ]
  },
  {
   "cell_type": "markdown",
   "id": "839e4119",
   "metadata": {},
   "source": [
    "ImportError:-\n",
    "    \n",
    "    1. ImportError is a general exception raised when there's an issue with importing a module. It can occur for various reasons, such as a missing module, a circular import, or problems within the imported module's code.\n",
    "\n",
    "    2. ImportError can have subtypes that provide more specific information about the error, such as ModuleNotFoundError, ImportError, and others."
   ]
  },
  {
   "cell_type": "code",
   "execution_count": 7,
   "id": "ba234877",
   "metadata": {},
   "outputs": [
    {
     "name": "stdout",
     "output_type": "stream",
     "text": [
      "ImportError: No module named 'non_existent_module'\n"
     ]
    }
   ],
   "source": [
    "try:\n",
    "    import non_existent_module\n",
    "except ImportError as e:\n",
    "    print(f\"ImportError: {e}\")"
   ]
  },
  {
   "cell_type": "markdown",
   "id": "06b8281f",
   "metadata": {},
   "source": [
    "ModuleNotFoundError:-\n",
    "    \n",
    "    1. ModuleNotFoundError is a more specific subtype of ImportError introduced in Python 3.6. It is raised when the specified module cannot be found.\n",
    "\n",
    "    2. This exception is useful because it provides a clear and informative error message indicating which module could not be located, making it easier to diagnose and fix import issues."
   ]
  },
  {
   "cell_type": "code",
   "execution_count": 8,
   "id": "1462c845",
   "metadata": {},
   "outputs": [
    {
     "name": "stdout",
     "output_type": "stream",
     "text": [
      "ModuleNotFoundError: No module named 'non_existent_module'\n"
     ]
    }
   ],
   "source": [
    "try:\n",
    "    import non_existent_module\n",
    "except ModuleNotFoundError as e:\n",
    "    print(f\"ModuleNotFoundError: {e}\")"
   ]
  },
  {
   "cell_type": "markdown",
   "id": "8ea45992",
   "metadata": {},
   "source": [
    "# Q6. List down some best practices for exception handling in python. "
   ]
  },
  {
   "cell_type": "markdown",
   "id": "66e24321",
   "metadata": {},
   "source": [
    "Use Specific Exceptions:-\n",
    "    \n",
    "    Catch specific exceptions whenever possible instead of using broad exception handlers. This allows you to handle different types of errors differently and provides better error messages for debugging."
   ]
  },
  {
   "cell_type": "raw",
   "id": "e2e2c2fa",
   "metadata": {},
   "source": [
    "try:\n",
    "    # Code that may raise a specific exception\n",
    "except SpecificException as e:\n",
    "    # Handle the specific exception"
   ]
  },
  {
   "cell_type": "markdown",
   "id": "5df6217a",
   "metadata": {},
   "source": [
    "Avoid Bare Excepts:-\n",
    "    \n",
    "    Avoid using a bare except statement, which catches all exceptions. It can make debugging difficult and hide unexpected errors."
   ]
  },
  {
   "cell_type": "raw",
   "id": "db2bd105",
   "metadata": {},
   "source": [
    "try:\n",
    "    # Code that may raise an exception\n",
    "except Exception as e:\n",
    "    # Handle the exception"
   ]
  },
  {
   "cell_type": "markdown",
   "id": "afc375c0",
   "metadata": {},
   "source": [
    "Use finally for Cleanup:-\n",
    "    \n",
    "    Use a finally block to ensure that cleanup code is executed regardless of whether an exception is raised or not. This is helpful for releasing resources like file handles, database connections, or network sockets."
   ]
  },
  {
   "cell_type": "raw",
   "id": "35ea91c7",
   "metadata": {},
   "source": [
    "try:\n",
    "    # Code that may raise an exception\n",
    "except SpecificException as e:\n",
    "    # Handle the specific exception\n",
    "finally:\n",
    "    # Cleanup code"
   ]
  },
  {
   "cell_type": "markdown",
   "id": "7146e264",
   "metadata": {},
   "source": [
    "Logging:-\n",
    "    \n",
    "    Use a logging framework (e.g., Python's logging module) to log exceptions and their details. Logging provides a record of errors and can help diagnose issues in production systems."
   ]
  },
  {
   "cell_type": "raw",
   "id": "c2f60433",
   "metadata": {},
   "source": [
    "import logging\n",
    "\n",
    "try:\n",
    "    # Code that may raise an exception\n",
    "except SpecificException as e:\n",
    "    logging.error(f\"Error: {e}\")"
   ]
  },
  {
   "cell_type": "markdown",
   "id": "69118ac3",
   "metadata": {},
   "source": [
    "Reraise Exceptions Sparingly:-\n",
    "    \n",
    "    Avoid re-raising exceptions unless you have a good reason to do so. Reraising can be used when you want to perform additional actions or logging while letting the exception propagate up the call stack."
   ]
  },
  {
   "cell_type": "raw",
   "id": "4f11ad17",
   "metadata": {},
   "source": [
    "try:\n",
    "    # Code that may raise an exception\n",
    "except SpecificException as e:\n",
    "    # Handle the exception\n",
    "    logging.error(f\"Error: {e}\")\n",
    "    raise  # Reraise the exception"
   ]
  },
  {
   "cell_type": "markdown",
   "id": "64301366",
   "metadata": {},
   "source": [
    "Custom Exceptions:-\n",
    "    \n",
    "    Create custom exception classes when needed to represent specific error conditions in your application. This makes your code more self-documenting and allows you to handle application-specific errors gracefully."
   ]
  },
  {
   "cell_type": "raw",
   "id": "9542fc3d",
   "metadata": {},
   "source": [
    "class CustomError(Exception):\n",
    "    pass\n",
    "\n",
    "try:\n",
    "    if some_condition:\n",
    "        raise CustomError(\"Custom error message\")\n",
    "except CustomError as e:\n",
    "    # Handle the custom exception"
   ]
  }
 ],
 "metadata": {
  "kernelspec": {
   "display_name": "Python 3 (ipykernel)",
   "language": "python",
   "name": "python3"
  },
  "language_info": {
   "codemirror_mode": {
    "name": "ipython",
    "version": 3
   },
   "file_extension": ".py",
   "mimetype": "text/x-python",
   "name": "python",
   "nbconvert_exporter": "python",
   "pygments_lexer": "ipython3",
   "version": "3.10.9"
  }
 },
 "nbformat": 4,
 "nbformat_minor": 5
}
