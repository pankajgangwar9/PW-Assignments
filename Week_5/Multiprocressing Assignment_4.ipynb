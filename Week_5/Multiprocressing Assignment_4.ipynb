{
 "cells": [
  {
   "cell_type": "markdown",
   "id": "4bf6fba8",
   "metadata": {},
   "source": [
    "# Q1. What is multiprocessing in python? Why is it useful?"
   ]
  },
  {
   "cell_type": "markdown",
   "id": "cb69a338",
   "metadata": {},
   "source": [
    "\n",
    "Multiprocessing in Python refers to the capability of the Python programming language to create and manage multiple processes to execute tasks concurrently. It's a way to achieve parallelism and leverage multiple CPU cores or processors to perform tasks more efficiently. Python's multiprocessing module is used for implementing multiprocessing in Python.\n",
    "\n",
    "Here are some key points about multiprocessing in Python and its usefulness:\n",
    "\n",
    "    1. Parallelism: Multiprocessing allows you to execute multiple tasks or functions simultaneously, taking advantage of the available CPU cores. This can lead to significant performance improvements for CPU-bound tasks, where the CPU is the limiting factor in task execution.\n",
    "\n",
    "    2. Isolation: Each process created with multiprocessing runs in its own separate memory space. This means that variables and data are isolated between processes, reducing the risk of data corruption or interference between concurrent tasks.\n",
    "\n",
    "    3. Simplified Multithreading: Python's Global Interpreter Lock (GIL) restricts true multi-threading in CPython (the default Python implementation). Multiprocessing provides a way to circumvent the GIL by running separate processes, making it suitable for CPU-bound tasks.\n",
    "\n",
    "    4. Distributed Computing: Multiprocessing can be used to distribute tasks across multiple machines in a cluster, making it suitable for parallel and distributed computing scenarios.\n",
    "\n",
    "    5. Robustness: If one process crashes due to an error, it typically won't affect other processes, ensuring robustness in your applications.\n",
    "\n",
    "    6. Scalability: Multiprocessing allows you to scale your Python applications to efficiently utilize modern multi-core processors, making it suitable for performance-critical applications."
   ]
  },
  {
   "cell_type": "markdown",
   "id": "1d4a85da",
   "metadata": {},
   "source": [
    "To use multiprocessing in Python, you typically create a Process object, define a function that you want to run concurrently in each process, and then start and manage these processes. Here's a simplified example:"
   ]
  },
  {
   "cell_type": "code",
   "execution_count": null,
   "id": "fef61515",
   "metadata": {},
   "outputs": [],
   "source": [
    "import multiprocessing\n",
    "\n",
    "def worker_function(arg):\n",
    "    print(f\"Worker received: {arg}\")\n",
    "\n",
    "if __name__ == \"__main__\":\n",
    "    num_processes = 4\n",
    "    pool = multiprocessing.Pool(processes=num_processes)\n",
    "    args_list = [1, 2, 3, 4]\n",
    "\n",
    "    pool.map(worker_function, args_list)\n",
    "    pool.close()\n",
    "    pool.join()"
   ]
  },
  {
   "cell_type": "markdown",
   "id": "4cf7d116",
   "metadata": {},
   "source": [
    "# Q2. What are the differences between multiprocessing and multithreading?"
   ]
  },
  {
   "cell_type": "markdown",
   "id": "ae4a048f",
   "metadata": {},
   "source": [
    "\n",
    "Multiprocessing and multithreading are both techniques used to achieve concurrent execution in a program, but they differ in how they create and manage concurrent tasks. Here are the key differences between multiprocessing and multithreading:\n",
    "\n",
    "Processes vs. Threads:\n",
    "\n",
    "    1. Multiprocessing: In multiprocessing, multiple processes are created, each with its own memory space and Python interpreter. These processes run independently and can execute different parts of a program concurrently. Processes are more heavyweight compared to threads.\n",
    "\n",
    "    2. Multithreading: In multithreading, multiple threads are created within a single process, all sharing the same memory space and Python interpreter. Threads are more lightweight than processes and share memory, making them suitable for tasks that require sharing data and resources.\n",
    "\n",
    "\n",
    "Concurrency vs. Parallelism:\n",
    "\n",
    "    1. Multiprocessing: Multiprocessing is suitable for achieving true parallelism, especially on multi-core processors. Each process runs on a separate CPU core (if available) and can execute tasks concurrently. It's ideal for CPU-bound tasks.\n",
    "\n",
    "    2. Multithreading: Multithreading achieves concurrency but not necessarily parallelism due to the Global Interpreter Lock (GIL) in CPython, the default Python implementation. The GIL restricts the execution of multiple Python threads in parallel, making it less suitable for CPU-bound tasks. However, it can be useful for I/O-bound tasks where threads can still execute concurrently.\n",
    "\n",
    "\n",
    "Memory Isolation:\n",
    "\n",
    "    1. Multiprocessing: Processes have separate memory spaces, which provides strong isolation between them. This isolation reduces the risk of data corruption but requires inter-process communication mechanisms (e.g., pipes, queues) for data exchange.\n",
    "    \n",
    "    2. Multithreading: Threads share the same memory space, which means they can access and modify the same data more easily. However, this also increases the complexity of managing data and synchronization to avoid race conditions.\n",
    "\n",
    "\n",
    "Fault Tolerance:\n",
    "\n",
    "    1. Multiprocessing: If one process crashes due to an error, it typically doesn't affect other processes. This isolation enhances the fault tolerance of the application.\n",
    "    \n",
    "    2. Multithreading: In multithreading, if one thread crashes due to an unhandled exception, it can potentially bring down the entire process, affecting all threads.\n",
    "\n",
    "\n",
    "Programming Model:\n",
    "\n",
    "    1. Multiprocessing: Implementing multiprocessing often involves using the multiprocessing module, creating and managing processes explicitly.\n",
    "    \n",
    "    2. Multithreading: Implementing multithreading usually involves using the threading module in Python, and threads can be created and managed within a single process.\n",
    "\n",
    "\n",
    "Use Cases:\n",
    "\n",
    "    1. Multiprocessing is well-suited for CPU-bound tasks, parallel processing, and scenarios where true parallelism is required.\n",
    "    \n",
    "    2. Multithreading is more suitable for I/O-bound tasks, tasks that require frequent context switching, and applications where shared data and resources among threads are needed."
   ]
  },
  {
   "cell_type": "markdown",
   "id": "b91d3b02",
   "metadata": {},
   "source": [
    "# Q3. Write a python code to create a process using the multiprocessing module."
   ]
  },
  {
   "cell_type": "code",
   "execution_count": 3,
   "id": "b0a4f29a",
   "metadata": {},
   "outputs": [
    {
     "name": "stdout",
     "output_type": "stream",
     "text": [
      "Main process is done.\n"
     ]
    }
   ],
   "source": [
    "import multiprocessing\n",
    "\n",
    "# Define a function that will be executed in the new process\n",
    "def worker_function():\n",
    "    print(\"Worker process is running.\")\n",
    "\n",
    "if __name__ == \"__main__\":\n",
    "    # Create a Process object and specify the target function\n",
    "    process = multiprocessing.Process(target=worker_function)\n",
    "    print(\"Main process is done.\")\n",
    "    # Start the process\n",
    "    process.start()\n",
    "    \n",
    "    # Wait for the process to complete (optional)\n",
    "    process.join()\n",
    "    "
   ]
  },
  {
   "cell_type": "markdown",
   "id": "9576b78d",
   "metadata": {},
   "source": [
    "# Q4. What is a multiprocessing pool in python? Why is it used?"
   ]
  },
  {
   "cell_type": "markdown",
   "id": "bbefe48f",
   "metadata": {},
   "source": [
    "A multiprocessing pool in Python, often referred to as a \"Pool,\" is a feature provided by the multiprocessing module. It's used to create a pool of worker processes that can execute functions in parallel, making it easier to perform parallel or concurrent processing of tasks. A pool abstracts away the details of managing individual processes, allowing you to focus on defining the tasks to be executed."
   ]
  },
  {
   "cell_type": "markdown",
   "id": "4114026b",
   "metadata": {},
   "source": [
    "Here are the key characteristics and reasons why you would use a multiprocessing pool:\n",
    "\n",
    "    1. Parallel Execution: A multiprocessing pool allows you to execute multiple instances of a function concurrently in separate processes. This can significantly speed up the execution of CPU-bound tasks by utilizing multiple CPU cores or processors.\n",
    "\n",
    "    2. Ease of Use: Using a pool simplifies the creation, management, and coordination of worker processes. You don't need to manually create and start individual processes; instead, you submit tasks to the pool, and it takes care of distributing the tasks among the available processes.\n",
    "\n",
    "    3. Resource Management: A pool can manage the number of worker processes automatically based on the available CPU cores or a specified number. This helps prevent oversubscription of resources, ensuring efficient parallelism.\n",
    "\n",
    "    4. Task Distribution: The pool typically provides methods like map and imap to distribute tasks and collect results. These methods take care of dividing the work among processes and aggregating the results.\n",
    "\n",
    "    5. Data Sharing: The pool can handle data sharing and synchronization automatically. It's designed to work seamlessly with shared data structures like queues or shared memory, making it easier to exchange data between processes."
   ]
  },
  {
   "cell_type": "code",
   "execution_count": null,
   "id": "9068b854",
   "metadata": {},
   "outputs": [],
   "source": [
    "import multiprocessing\n",
    "\n",
    "def worker_function(arg):\n",
    "    return f\"Processed {arg}\"\n",
    "\n",
    "if __name__ == \"__main__\":\n",
    "    num_processes = 4\n",
    "    \n",
    "    # Create a multiprocessing pool with the specified number of processes\n",
    "    pool = multiprocessing.Pool(processes=num_processes)\n",
    "    \n",
    "    # Define a list of tasks\n",
    "    args_list = [1, 2, 3, 4]\n",
    "    \n",
    "    # Use the map method to distribute tasks to the pool and collect results\n",
    "    results = pool.map(worker_function, args_list)\n",
    "    \n",
    "    # Close the pool to prevent further task submission\n",
    "    pool.close()\n",
    "    \n",
    "    # Wait for all processes in the pool to complete\n",
    "    pool.join()\n",
    "    \n",
    "    # Print the results\n",
    "    print(results)"
   ]
  },
  {
   "cell_type": "markdown",
   "id": "47b8a121",
   "metadata": {},
   "source": [
    "# Q5. How can we create a pool of worker processes in python using the multiprocessing module?"
   ]
  },
  {
   "cell_type": "markdown",
   "id": "e992e9e4",
   "metadata": {},
   "source": [
    "You can create a pool of worker processes in Python using the multiprocessing module's Pool class. The Pool class provides a simple way to manage a group of worker processes that can execute functions in parallel. Here's how you can create a pool of worker processes:"
   ]
  },
  {
   "cell_type": "code",
   "execution_count": null,
   "id": "cd9a56d5",
   "metadata": {},
   "outputs": [],
   "source": [
    "import multiprocessing\n",
    "\n",
    "# Define a function that will be executed by worker processes\n",
    "def worker_function(arg):\n",
    "    return f\"Processed {arg}\"\n",
    "\n",
    "if __name__ == \"__main__\":\n",
    "    num_processes = 4  # Specify the number of worker processes in the pool\n",
    "    \n",
    "    # Create a multiprocessing pool with the specified number of processes\n",
    "    pool = multiprocessing.Pool(processes=num_processes)\n",
    "    \n",
    "    # Define a list of tasks\n",
    "    args_list = [1, 2, 3, 4]\n",
    "    \n",
    "    # Use the map method to distribute tasks to the pool and collect results\n",
    "    results = pool.map(worker_function, args_list)\n",
    "    \n",
    "    # Close the pool to prevent further task submission\n",
    "    pool.close()\n",
    "    \n",
    "    # Wait for all processes in the pool to complete\n",
    "    pool.join()\n",
    "    \n",
    "    # Print the results\n",
    "    print(results)"
   ]
  },
  {
   "cell_type": "markdown",
   "id": "e76749de",
   "metadata": {},
   "source": [
    "In this code:\n",
    "\n",
    "    1. We import the multiprocessing module.\n",
    "\n",
    "    2. Define a function worker_function that represents the task to be executed by worker processes. This function takes an argument arg.\n",
    "\n",
    "    3. Inside the if __name__ == \"__main__\": block, we specify the number of worker processes we want in the pool using the num_processes variable.\n",
    "\n",
    "    4. We create a multiprocessing pool by instantiating the Pool class with the desired number of processes: pool = multiprocessing.Pool(processes=num_processes).\n",
    "\n",
    "    5. Define a list of tasks to be processed, represented by args_list.\n",
    "\n",
    "    6. Use the map method of the pool to distribute the tasks in args_list to the worker processes. The map method takes the worker_function and the list of arguments and returns a list of results.\n",
    "\n",
    "    7. Close the pool using pool.close() to prevent further task submission.\n",
    "\n",
    "    8. Use pool.join() to wait for all the worker processes in the pool to complete their tasks.\n",
    "\n",
    "    9. Finally, we print the results, which will contain the output of the worker_function for each argument in args_list."
   ]
  },
  {
   "cell_type": "markdown",
   "id": "63422a37",
   "metadata": {},
   "source": [
    "# Q6. Write a python program to create 4 processes, each process should print a different number using the multiprocessing module in python."
   ]
  },
  {
   "cell_type": "code",
   "execution_count": null,
   "id": "c9b15724",
   "metadata": {},
   "outputs": [],
   "source": [
    "import multiprocessing\n",
    "\n",
    "# Define a function for each process to print a number\n",
    "def print_number(number):\n",
    "    print(f\"Process {number}: {number}\")\n",
    "\n",
    "if __name__ == \"__main__\":\n",
    "    # Create a list of numbers (1 to 4)\n",
    "    numbers = [1, 2, 3, 4]\n",
    "    \n",
    "    # Create a list to store the process objects\n",
    "    processes = []\n",
    "\n",
    "    # Create and start a separate process for each number\n",
    "    for number in numbers:\n",
    "        process = multiprocessing.Process(target=print_number, args=(number,))\n",
    "        processes.append(process)\n",
    "        process.start()\n",
    "\n",
    "    # Wait for all processes to finish\n",
    "    for process in processes:\n",
    "        process.join()\n",
    "\n",
    "    print(\"All processes have finished.\")"
   ]
  },
  {
   "cell_type": "markdown",
   "id": "048a5fba",
   "metadata": {},
   "source": [
    "In this code:\n",
    "\n",
    "    1. We import the multiprocessing module.\n",
    "\n",
    "    2. We define a function print_number that takes a number as an argument and prints it along with the process number.\n",
    "\n",
    "    3. Inside the if __name__ == \"__main__\": block, we create a list of numbers from 1 to 4, which will be printed by the processes.\n",
    "\n",
    "    4. We create an empty list processes to store the process objects.\n",
    "\n",
    "    5. We use a for loop to iterate through the list of numbers, and for each number, we create a separate process using multiprocessing.Process. We pass the print_number function as the target, and we provide the number as an argument using the args parameter.\n",
    "\n",
    "    6. Each process is added to the processes list, and then we start each process with process.start().\n",
    "\n",
    "    7. After starting all processes, we use another for loop to wait for each process to finish using process.join().\n",
    "\n",
    "    8. Finally, we print \"All processes have finished\" to indicate that all processes have completed their tasks."
   ]
  }
 ],
 "metadata": {
  "kernelspec": {
   "display_name": "Python 3 (ipykernel)",
   "language": "python",
   "name": "python3"
  },
  "language_info": {
   "codemirror_mode": {
    "name": "ipython",
    "version": 3
   },
   "file_extension": ".py",
   "mimetype": "text/x-python",
   "name": "python",
   "nbconvert_exporter": "python",
   "pygments_lexer": "ipython3",
   "version": "3.10.9"
  }
 },
 "nbformat": 4,
 "nbformat_minor": 5
}
