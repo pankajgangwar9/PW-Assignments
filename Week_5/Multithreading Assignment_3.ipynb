{
 "cells": [
  {
   "cell_type": "markdown",
   "id": "e97c1933",
   "metadata": {},
   "source": [
    "# Q1. What is multithreading in python? Why is it used? Name the module used to handle threads in python."
   ]
  },
  {
   "cell_type": "markdown",
   "id": "a8f84902",
   "metadata": {},
   "source": [
    "Multithreading in Python:-\n",
    "    \n",
    "    Multithreading in Python refers to the concurrent execution of multiple threads within a single process. A thread is the smallest unit of a CPU's execution, and multithreading allows you to execute multiple threads concurrently to perform tasks in parallel. Python's threading module provides a way to work with threads."
   ]
  },
  {
   "cell_type": "markdown",
   "id": "c96ee07d",
   "metadata": {},
   "source": [
    "Multithreading is used in Python for various reasons, including:-\n",
    "    \n",
    "    1. Concurrency: Multithreading allows you to run multiple tasks concurrently, making it useful for applications where you need to perform multiple operations simultaneously, such as handling user interface responsiveness while performing background tasks.\n",
    "\n",
    "    2. Utilizing Multiple Cores: In multi-core processors, multithreading can leverage multiple CPU cores to execute threads in parallel, improving overall performance for CPU-bound tasks.\n",
    "\n",
    "    3. I/O Operations: Multithreading is particularly useful for I/O-bound operations, such as reading/writing files or making network requests. Threads can be used to prevent blocking operations and keep the program responsive.\n",
    "\n",
    "    4. Resource Sharing: Threads can share memory space within a process, making it easier to share data between threads and communicate between different parts of an application."
   ]
  },
  {
   "cell_type": "markdown",
   "id": "1697d2db",
   "metadata": {},
   "source": [
    "Module for Handling Threads in Python:-\n",
    "    \n",
    "    The module used to handle threads in Python is called threading. It provides a high-level, object-oriented API for working with threads. You can create and manage threads using this module, which includes features like thread synchronization, locks, and thread-specific data."
   ]
  },
  {
   "cell_type": "code",
   "execution_count": 1,
   "id": "60228282",
   "metadata": {},
   "outputs": [
    {
     "name": "stdout",
     "output_type": "stream",
     "text": [
      "Hello from thread\n",
      "Hello from thread\n",
      "Hello from thread\n",
      "Hello from thread\n",
      "Hello from thread\n",
      "Main thread continues\n"
     ]
    }
   ],
   "source": [
    "import threading\n",
    "\n",
    "def my_function():\n",
    "    for _ in range(5):\n",
    "        print(\"Hello from thread\")\n",
    "\n",
    "# Create a thread\n",
    "my_thread = threading.Thread(target=my_function)\n",
    "\n",
    "# Start the thread\n",
    "my_thread.start()\n",
    "\n",
    "# Wait for the thread to finish (optional)\n",
    "my_thread.join()\n",
    "\n",
    "print(\"Main thread continues\")"
   ]
  },
  {
   "cell_type": "markdown",
   "id": "f6d7038b",
   "metadata": {},
   "source": [
    "# Q2. Why threading module used? Write the use of the following functions.\n",
    "1. activeCount()\n",
    "2. currentThread()\n",
    "3. enumerate()"
   ]
  },
  {
   "cell_type": "markdown",
   "id": "0d24c5ee",
   "metadata": {},
   "source": [
    "The threading module in Python is used for working with threads, allowing you to create, manage, and synchronize threads in a multi-threaded program. Here's an explanation of the three functions you mentioned:"
   ]
  },
  {
   "cell_type": "markdown",
   "id": "fd6587e1",
   "metadata": {},
   "source": [
    "activeCount():-\n",
    "    \n",
    "    1. threading.activeCount() is a function used to retrieve the current number of Thread objects in the current process.\n",
    "    \n",
    "    2. It returns an integer representing the total count of Thread objects, including the main thread and any other threads that have been created using the threading module.\n",
    "\n",
    "    3. This function can be useful for monitoring the number of active threads in your application, especially in scenarios where you want to ensure that all threads have completed before the program exits."
   ]
  },
  {
   "cell_type": "code",
   "execution_count": 3,
   "id": "4b12979f",
   "metadata": {},
   "outputs": [
    {
     "ename": "NameError",
     "evalue": "name 'func1' is not defined",
     "output_type": "error",
     "traceback": [
      "\u001b[1;31m---------------------------------------------------------------------------\u001b[0m",
      "\u001b[1;31mNameError\u001b[0m                                 Traceback (most recent call last)",
      "Cell \u001b[1;32mIn[3], line 4\u001b[0m\n\u001b[0;32m      1\u001b[0m \u001b[38;5;28;01mimport\u001b[39;00m \u001b[38;5;21;01mthreading\u001b[39;00m\n\u001b[0;32m      3\u001b[0m \u001b[38;5;66;03m# Create two threads\u001b[39;00m\n\u001b[1;32m----> 4\u001b[0m thread1 \u001b[38;5;241m=\u001b[39m threading\u001b[38;5;241m.\u001b[39mThread(target\u001b[38;5;241m=\u001b[39m\u001b[43mfunc1\u001b[49m)\n\u001b[0;32m      5\u001b[0m thread2 \u001b[38;5;241m=\u001b[39m threading\u001b[38;5;241m.\u001b[39mThread(target\u001b[38;5;241m=\u001b[39mfunc2)\n\u001b[0;32m      7\u001b[0m \u001b[38;5;66;03m# Start the threads\u001b[39;00m\n",
      "\u001b[1;31mNameError\u001b[0m: name 'func1' is not defined"
     ]
    }
   ],
   "source": [
    "import threading\n",
    "\n",
    "# Create two threads\n",
    "thread1 = threading.Thread(target=func1)\n",
    "thread2 = threading.Thread(target=func2)\n",
    "\n",
    "# Start the threads\n",
    "thread1.start()\n",
    "thread2.start()\n",
    "\n",
    "# Get the number of active threads\n",
    "count = threading.activeCount()\n",
    "print(\"Active threads:\", count)"
   ]
  },
  {
   "cell_type": "markdown",
   "id": "35f92dbe",
   "metadata": {},
   "source": [
    "currentThread():\n",
    "\n",
    "    1. threading.currentThread() is a function used to obtain a reference to the current Thread object that is executing the function or code at that moment.\n",
    "\n",
    "    2. It returns an instance of the Thread class, which allows you to access properties and methods associated with the current thread.\n",
    "\n",
    "    3. This function is useful when you need to perform operations specific to the current thread, such as setting thread-specific data or obtaining information about the thread's name or ID."
   ]
  },
  {
   "cell_type": "code",
   "execution_count": 4,
   "id": "8bd796fc",
   "metadata": {},
   "outputs": [
    {
     "name": "stderr",
     "output_type": "stream",
     "text": [
      "C:\\Users\\HP\\AppData\\Local\\Temp\\ipykernel_21372\\531911258.py:4: DeprecationWarning: currentThread() is deprecated, use current_thread() instead\n",
      "  current_thread = threading.currentThread()\n"
     ]
    },
    {
     "name": "stdout",
     "output_type": "stream",
     "text": [
      "Current Thread Name: MyThread\n"
     ]
    }
   ],
   "source": [
    "import threading\n",
    "\n",
    "def my_function():\n",
    "    current_thread = threading.currentThread()\n",
    "    print(\"Current Thread Name:\", current_thread.name)\n",
    "\n",
    "# Create a thread\n",
    "my_thread = threading.Thread(target=my_function, name=\"MyThread\")\n",
    "\n",
    "# Start the thread\n",
    "my_thread.start()"
   ]
  },
  {
   "cell_type": "markdown",
   "id": "362d33e7",
   "metadata": {},
   "source": [
    "enumerate():-\n",
    "    \n",
    "    1. threading.enumerate() is a function used to retrieve a list of all active Thread objects in the current process.\n",
    "    \n",
    "    2. It returns a list containing references to all the currently active threads, including the main thread and any threads created using the threading module.\n",
    "\n",
    "    3. This function can be helpful for iterating through and inspecting all active threads, allowing you to perform operations or gather information about them."
   ]
  },
  {
   "cell_type": "code",
   "execution_count": 5,
   "id": "398a37c6",
   "metadata": {},
   "outputs": [
    {
     "name": "stdout",
     "output_type": "stream",
     "text": [
      "Working\n",
      "Working\n",
      "Working\n",
      "Thread Name: MainThread\n",
      "Thread Name: IOPub\n",
      "Thread Name: Heartbeat\n",
      "Thread Name: Control\n",
      "Thread Name: IPythonHistorySavingThread\n",
      "Thread Name: Thread-4\n"
     ]
    }
   ],
   "source": [
    "import threading\n",
    "\n",
    "def worker():\n",
    "    print(\"Working\")\n",
    "\n",
    "# Create multiple threads\n",
    "threads = [threading.Thread(target=worker) for _ in range(3)]\n",
    "\n",
    "# Start the threads\n",
    "for thread in threads:\n",
    "    thread.start()\n",
    "\n",
    "# Enumerate and print all active threads\n",
    "for thread in threading.enumerate():\n",
    "    print(\"Thread Name:\", thread.name)"
   ]
  },
  {
   "cell_type": "markdown",
   "id": "595b34af",
   "metadata": {},
   "source": [
    "# Q3. Explain the following functions.\n",
    "1. run()\n",
    "2. start()\n",
    "3. join()\n",
    "4. isAlive()"
   ]
  },
  {
   "cell_type": "markdown",
   "id": "e05c3d87",
   "metadata": {},
   "source": [
    "run():\n",
    "\n",
    "    1. run() is not a method of the threading module itself but is an essential method in the context of threads. It's a method that you can override in a custom thread class by subclassing threading.Thread.\n",
    "\n",
    "    2. When you create a custom thread class by subclassing threading.Thread, you typically override the run() method to define the behavior that the thread should execute when it starts.\n",
    "\n",
    "    3. When you call the start() method on an instance of your custom thread class, it internally calls the run() method to execute the code you've defined in the run() method within a new thread."
   ]
  },
  {
   "cell_type": "code",
   "execution_count": 6,
   "id": "1abd0fbe",
   "metadata": {},
   "outputs": [
    {
     "name": "stdout",
     "output_type": "stream",
     "text": [
      "Custom thread is running\n"
     ]
    }
   ],
   "source": [
    "import threading\n",
    "\n",
    "class MyThread(threading.Thread):\n",
    "    def run(self):\n",
    "        print(\"Custom thread is running\")\n",
    "\n",
    "my_thread = MyThread()\n",
    "my_thread.start()"
   ]
  },
  {
   "cell_type": "markdown",
   "id": "26863035",
   "metadata": {},
   "source": [
    "start():\n",
    "\n",
    "    1. The start() method is used to start the execution of a thread. It initializes the thread, assigns it a unique thread ID, and calls the run() method (if overridden) within a new thread of execution.\n",
    "\n",
    "    2. Once you call start(), the thread runs concurrently with other threads, and you should not call the run() method directly; instead, you rely on start() to handle thread initialization and execution."
   ]
  },
  {
   "cell_type": "code",
   "execution_count": 7,
   "id": "637b8dbf",
   "metadata": {},
   "outputs": [
    {
     "name": "stdout",
     "output_type": "stream",
     "text": [
      "Hello from thread\n",
      "Hello from thread\n",
      "Hello from thread\n",
      "Hello from thread\n",
      "Hello from thread\n",
      "Main thread continues\n"
     ]
    }
   ],
   "source": [
    "import threading\n",
    "\n",
    "def my_function():\n",
    "    for _ in range(5):\n",
    "        print(\"Hello from thread\")\n",
    "\n",
    "# Create a thread\n",
    "my_thread = threading.Thread(target=my_function)\n",
    "\n",
    "# Start the thread\n",
    "my_thread.start()\n",
    "\n",
    "# Wait for the thread to finish (optional)\n",
    "my_thread.join()\n",
    "\n",
    "print(\"Main thread continues\")"
   ]
  },
  {
   "cell_type": "markdown",
   "id": "130f7954",
   "metadata": {},
   "source": [
    "join():\n",
    "\n",
    "    1. The join() method is used to wait for a thread to complete its execution before continuing with the rest of the program. It essentially blocks the calling thread until the target thread (the one you call join() on) has finished.\n",
    "\n",
    "    2. This is often used to ensure that all threads have completed their tasks before proceeding with the main program or performing any operations that depend on the results of the threads."
   ]
  },
  {
   "cell_type": "code",
   "execution_count": 8,
   "id": "e9b568b2",
   "metadata": {},
   "outputs": [
    {
     "name": "stdout",
     "output_type": "stream",
     "text": [
      "Worker thread is working\n",
      "Main thread continues\n"
     ]
    }
   ],
   "source": [
    "import threading\n",
    "\n",
    "def worker():\n",
    "    print(\"Worker thread is working\")\n",
    "\n",
    "my_thread = threading.Thread(target=worker)\n",
    "my_thread.start()\n",
    "\n",
    "# Wait for my_thread to finish before continuing\n",
    "my_thread.join()\n",
    "\n",
    "print(\"Main thread continues\")"
   ]
  },
  {
   "cell_type": "markdown",
   "id": "e6778181",
   "metadata": {},
   "source": [
    "isAlive():\n",
    "\n",
    "    1. The isAlive() method is used to check whether a thread is currently running (alive) or has already completed its execution.\n",
    "\n",
    "    2. It returns True if the thread is currently running, and False if the thread has finished executing.\n",
    "\n",
    "    3. This method can be useful when you want to check the status of a thread before deciding whether to wait for it to complete using join() or to take other actions based on its status."
   ]
  },
  {
   "cell_type": "code",
   "execution_count": 9,
   "id": "43604721",
   "metadata": {},
   "outputs": [
    {
     "ename": "AttributeError",
     "evalue": "'Thread' object has no attribute 'isAlive'",
     "output_type": "error",
     "traceback": [
      "\u001b[1;31m---------------------------------------------------------------------------\u001b[0m",
      "\u001b[1;31mAttributeError\u001b[0m                            Traceback (most recent call last)",
      "Cell \u001b[1;32mIn[9], line 12\u001b[0m\n\u001b[0;32m      9\u001b[0m my_thread\u001b[38;5;241m.\u001b[39mstart()\n\u001b[0;32m     11\u001b[0m \u001b[38;5;66;03m# Check if my_thread is still alive\u001b[39;00m\n\u001b[1;32m---> 12\u001b[0m \u001b[38;5;28;01mif\u001b[39;00m \u001b[43mmy_thread\u001b[49m\u001b[38;5;241;43m.\u001b[39;49m\u001b[43misAlive\u001b[49m():\n\u001b[0;32m     13\u001b[0m     \u001b[38;5;28mprint\u001b[39m(\u001b[38;5;124m\"\u001b[39m\u001b[38;5;124mWaiting for my_thread to finish\u001b[39m\u001b[38;5;124m\"\u001b[39m)\n\u001b[0;32m     14\u001b[0m     my_thread\u001b[38;5;241m.\u001b[39mjoin()\n",
      "\u001b[1;31mAttributeError\u001b[0m: 'Thread' object has no attribute 'isAlive'"
     ]
    },
    {
     "name": "stdout",
     "output_type": "stream",
     "text": [
      "Worker thread has completed its task\n"
     ]
    }
   ],
   "source": [
    "import threading\n",
    "import time\n",
    "\n",
    "def worker():\n",
    "    time.sleep(2)\n",
    "    print(\"Worker thread has completed its task\")\n",
    "\n",
    "my_thread = threading.Thread(target=worker)\n",
    "my_thread.start()\n",
    "\n",
    "# Check if my_thread is still alive\n",
    "if my_thread.isAlive():\n",
    "    print(\"Waiting for my_thread to finish\")\n",
    "    my_thread.join()"
   ]
  },
  {
   "cell_type": "markdown",
   "id": "dbae9fcf",
   "metadata": {},
   "source": [
    "# Q4. Write a python program to create two threads. Thread one must print the list of squares and thread two must print the list of cubes."
   ]
  },
  {
   "cell_type": "code",
   "execution_count": 10,
   "id": "a0184abd",
   "metadata": {},
   "outputs": [
    {
     "name": "stdout",
     "output_type": "stream",
     "text": [
      "Square of 1: 1\n",
      "Square of 2: 4\n",
      "Square of 3: 9\n",
      "Square of 4: 16\n",
      "Square of 5: 25\n",
      "Cube of 1: 1\n",
      "Cube of 2: 8\n",
      "Cube of 3: 27\n",
      "Cube of 4: 64\n",
      "Cube of 5: 125\n",
      "Main thread continues\n"
     ]
    }
   ],
   "source": [
    "import threading\n",
    "\n",
    "# Function to calculate and print squares\n",
    "def print_squares():\n",
    "    for i in range(1, 6):\n",
    "        print(f\"Square of {i}: {i*i}\")\n",
    "\n",
    "# Function to calculate and print cubes\n",
    "def print_cubes():\n",
    "    for i in range(1, 6):\n",
    "        print(f\"Cube of {i}: {i*i*i}\")\n",
    "\n",
    "# Create two threads\n",
    "thread1 = threading.Thread(target=print_squares)\n",
    "thread2 = threading.Thread(target=print_cubes)\n",
    "\n",
    "# Start both threads\n",
    "thread1.start()\n",
    "thread2.start()\n",
    "\n",
    "# Wait for both threads to finish\n",
    "thread1.join()\n",
    "thread2.join()\n",
    "\n",
    "print(\"Main thread continues\")"
   ]
  },
  {
   "cell_type": "markdown",
   "id": "a1705d0d",
   "metadata": {},
   "source": [
    "# Q5. State advantages and disadvantages of multithreading."
   ]
  },
  {
   "cell_type": "markdown",
   "id": "5db1b954",
   "metadata": {},
   "source": [
    "Advantages of Multithreading:\n",
    "\n",
    "Improved Performance:\n",
    "\n",
    "One of the primary advantages of multithreading is improved performance. Multithreading allows an application to utilize multiple CPU cores or processors efficiently.\n",
    "CPU-bound tasks can be parallelized, leading to faster execution times. This is especially beneficial on multi-core systems.\n",
    "\n",
    "\n",
    "Concurrency:\n",
    "\n",
    "Multithreading enables concurrent execution of tasks, making it suitable for applications that need to handle multiple tasks simultaneously. This is particularly useful in scenarios where responsiveness and parallel processing are essential.\n",
    "\n",
    "\n",
    "Resource Sharing:\n",
    "\n",
    "Threads within the same process share memory space, which can simplify data sharing and communication between different parts of an application.\n",
    "This can lead to efficient resource utilization and reduced memory overhead compared to processes.\n",
    "\n",
    "\n",
    "Responsiveness:\n",
    "\n",
    "Multithreading can enhance the responsiveness of applications with user interfaces. For instance, a user interface thread can run concurrently with background tasks, ensuring that the application remains responsive to user input.\n",
    "\n",
    "\n",
    "Scalability:\n",
    "\n",
    "Multithreading allows for greater scalability in applications, as you can add or remove threads dynamically based on workload or system resources.\n",
    "\n",
    "\n",
    "\n",
    "\n",
    "Disadvantages of Multithreading:\n",
    "\n",
    "Complexity:\n",
    "\n",
    "Multithreaded programming is often more complex than single-threaded programming. Handling synchronization, race conditions, and deadlocks can be challenging and error-prone.\n",
    "\n",
    "\n",
    "Concurrency Bugs:\n",
    "\n",
    "Multithreading introduces the risk of concurrency-related bugs such as race conditions, data corruption, and deadlocks. Debugging these issues can be difficult and time-consuming.\n",
    "\n",
    "\n",
    "Performance Overheads:\n",
    "\n",
    "While multithreading can improve performance for CPU-bound tasks, it may introduce performance overhead due to context switching, thread management, and synchronization mechanisms.\n",
    "In some cases, excessive thread creation and synchronization can lead to decreased performance.\n",
    "\n",
    "\n",
    "Resource Contentions:\n",
    "\n",
    "Threads in the same process can contend for shared resources, such as CPU time and memory. If not managed correctly, this contention can lead to performance degradation.\n",
    "\n",
    "\n",
    "Compatibility Issues:\n",
    "\n",
    "Not all applications can benefit from multithreading, and some legacy code or libraries may not be thread-safe or may not work well in a multithreaded environment.\n",
    "\n",
    "\n",
    "Debugging and Testing Challenges:\n",
    "\n",
    "Debugging multithreaded applications can be challenging due to the non-deterministic nature of thread execution. Reproducing and diagnosing issues can be difficult."
   ]
  },
  {
   "cell_type": "markdown",
   "id": "f60ce560",
   "metadata": {},
   "source": [
    "# Q6. Explain deadlocks and race conditions."
   ]
  },
  {
   "cell_type": "markdown",
   "id": "4dc7e911",
   "metadata": {},
   "source": [
    "Deadlocks:\n",
    "\n",
    "    1. A deadlock is a situation where two or more threads or processes are unable to proceed because each is waiting for the other to release a resource that they need to continue.\n",
    "\n",
    "    2. Deadlocks typically occur when multiple threads acquire locks on resources in a way that creates a circular dependency. Each thread holds a resource and is waiting for another resource that is held by another thread, forming a cycle.\n",
    "\n",
    "    3. Deadlocks can result in a complete program freeze or hang, and the application becomes unresponsive.\n",
    "\n",
    "    4. To prevent deadlocks, you can use techniques such as proper resource ordering, timeouts, deadlock detection, or avoidance algorithms like Banker's algorithm.\n",
    "\n",
    "Example:\n",
    "\n",
    "    1. Thread A locks Resource X and waits for Resource Y.\n",
    "\n",
    "    2. Thread B locks Resource Y and waits for Resource X.\n",
    "\n",
    "    3. Both threads are now waiting for a resource held by the other, resulting in a deadlock."
   ]
  },
  {
   "cell_type": "markdown",
   "id": "b169bb4b",
   "metadata": {},
   "source": [
    "Race Conditions:\n",
    "\n",
    "    1. A race condition occurs when two or more threads or processes access shared data concurrently, and the final outcome depends on the timing or order of execution.\n",
    "    \n",
    "    2. Race conditions can lead to unpredictable and erroneous behavior in your program, as the value of shared data can be different from what you expect due to interleaved execution.\n",
    "\n",
    "    3. Race conditions are usually a result of improper synchronization. When multiple threads modify shared data without proper synchronization (e.g., using locks), it can lead to data corruption or inconsistencies.\n",
    "\n",
    "Example:\n",
    "\n",
    "    1. Two threads increment a shared counter without synchronization. If they both read the counter's current value at the same time and then increment it separately, the counter may end up with a value that is less than the expected result."
   ]
  }
 ],
 "metadata": {
  "kernelspec": {
   "display_name": "Python 3 (ipykernel)",
   "language": "python",
   "name": "python3"
  },
  "language_info": {
   "codemirror_mode": {
    "name": "ipython",
    "version": 3
   },
   "file_extension": ".py",
   "mimetype": "text/x-python",
   "name": "python",
   "nbconvert_exporter": "python",
   "pygments_lexer": "ipython3",
   "version": "3.10.9"
  }
 },
 "nbformat": 4,
 "nbformat_minor": 5
}
